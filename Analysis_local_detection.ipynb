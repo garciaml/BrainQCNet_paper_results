{
 "cells": [
  {
   "cell_type": "code",
   "execution_count": 2,
   "id": "211bff53",
   "metadata": {},
   "outputs": [],
   "source": [
    "import pandas as pd\n",
    "import numpy as np\n",
    "import os\n",
    "import nibabel as nib\n",
    "import matplotlib.pyplot as plt\n",
    "from PIL import Image"
   ]
  },
  {
   "cell_type": "code",
   "execution_count": 3,
   "id": "3d3199ce",
   "metadata": {},
   "outputs": [],
   "source": [
    "df_local_artefacts = pd.read_csv(\"annotations/local_artefacts.csv\")"
   ]
  },
  {
   "cell_type": "code",
   "execution_count": 4,
   "id": "ac4cec60",
   "metadata": {},
   "outputs": [
    {
     "data": {
      "text/plain": [
       "ringing x,y,z                30\n",
       "ringing x,z                   4\n",
       "ringing y,z                   3\n",
       "erasement z                   3\n",
       "ringing x,y                   3\n",
       "kind of arc x,y,z             2\n",
       "erasement x,y(light),z        2\n",
       "ringing z                     2\n",
       "ringing like x,z              2\n",
       "ringing/erasement x           1\n",
       "erasement x,z, ringing y      1\n",
       "erasement x, ringing y        1\n",
       "Global ringing x,y,z          1\n",
       "ringing/erasement x,z         1\n",
       "kind of arc x,z               1\n",
       "ringing y                     1\n",
       "ringing x, y, erasement z     1\n",
       "erasement x                   1\n",
       "ringing x, erasement y,z      1\n",
       "Name: 4, dtype: int64"
      ]
     },
     "execution_count": 4,
     "metadata": {},
     "output_type": "execute_result"
    }
   ],
   "source": [
    "df_local_artefacts[\"4\"].value_counts()"
   ]
  },
  {
   "cell_type": "code",
   "execution_count": 13,
   "id": "1ef7c26e",
   "metadata": {},
   "outputs": [],
   "source": [
    "def create_L_sub_ids(df_local_artefacts, val):\n",
    "    return df_local_artefacts[df_local_artefacts[\"4\"] == val].sub_id.tolist()\n",
    "\n",
    "L_ringing_xyz = create_L_sub_ids(df_local_artefacts,\"ringing x,y,z\")\n",
    "L_global_ringing_xyz = create_L_sub_ids(df_local_artefacts,\"Global ringing x,y,z\")\n",
    "L_ringing_xz = create_L_sub_ids(df_local_artefacts,\"ringing x,z\")\n",
    "L_ringing_yz = create_L_sub_ids(df_local_artefacts,\"ringing y,z\")\n",
    "L_ringing_xy = create_L_sub_ids(df_local_artefacts,\"ringing x,y\")\n",
    "L_ringing_y = create_L_sub_ids(df_local_artefacts, \"ringing y\")\n",
    "L_ringing_z = create_L_sub_ids(df_local_artefacts,\"ringing z\")\n",
    "\n",
    "L_ringing_like_xz = create_L_sub_ids(df_local_artefacts,\"ringing like x,z\")\n",
    "\n",
    "L_kind_of_arc_xyz = create_L_sub_ids(df_local_artefacts,\"kind of arc x,y,z\")\n",
    "L_kind_of_arc_xz = create_L_sub_ids(df_local_artefacts, \"kind of arc x,z\")\n",
    "\n",
    "L_erasement_x = create_L_sub_ids(df_local_artefacts,\"erasement x\")\n",
    "L_erasement_z = create_L_sub_ids(df_local_artefacts,\"erasement z\")\n",
    "\n",
    "L_erasement_xyz = create_L_sub_ids(df_local_artefacts,\"erasement x,y(light),z\")\n",
    "\n",
    "L_erasement_xz_ringing_y = create_L_sub_ids(df_local_artefacts, \"erasement x,z, ringing y\") \n",
    "L_ringing_xy_erasement_z = create_L_sub_ids(df_local_artefacts, \"ringing x, y, erasement z\")\n",
    "L_erasement_x_ringing_y = create_L_sub_ids(df_local_artefacts, \"erasement x, ringing y\")\n",
    "L_ringing_erasement_x = create_L_sub_ids(df_local_artefacts, \"ringing/erasement x\")\n",
    "L_ringing_erasement_xz = create_L_sub_ids(df_local_artefacts, \"ringing/erasement x,z\")\n",
    "L_ringing_x_erasement_yz = create_L_sub_ids(df_local_artefacts, \"ringing x, erasement y,z\")\n"
   ]
  },
  {
   "cell_type": "code",
   "execution_count": 14,
   "id": "5b8d9411",
   "metadata": {},
   "outputs": [
    {
     "data": {
      "text/plain": [
       "['KKI-0050788']"
      ]
     },
     "execution_count": 14,
     "metadata": {},
     "output_type": "execute_result"
    }
   ],
   "source": [
    "L_global_ringing_xyz"
   ]
  },
  {
   "cell_type": "code",
   "execution_count": 15,
   "id": "764a3dd6",
   "metadata": {},
   "outputs": [],
   "source": [
    "# path_test1 = \"/media/mleanie/SAMSUNG/QA_study/protopnet_results/testset1/resnet152/19112020/10push0.8167.pth/\"\n",
    "# path_test3 = \"/media/mleanie/SAMSUNG/QA_study/protopnet_results/testset3_good_medium/resnet152/19112020/10push0.8167.pth/\"\n",
    "\n",
    "# subids_path_test1 = os.listdir(path_test1)\n",
    "# subids_path_test3 = os.listdir(path_test3)\n",
    "\n",
    "subids_path_test1 = pd.read_csv(\"subids_testset1.csv\", header=None)[0].tolist()\n",
    "subids_path_test3 = pd.read_csv(\"subids_testset3_good_medium.csv\", header=None)[0].tolist()\n"
   ]
  },
  {
   "cell_type": "code",
   "execution_count": 16,
   "id": "b5d14b19",
   "metadata": {},
   "outputs": [],
   "source": [
    "path_test1 = \"results/protopnet/testset1/resnet152/19112020/10push0.8167.pth/\"\n",
    "path_test3 = \"results/protopnet/testset3_good_medium/resnet152/19112020/10push0.8167.pth/\"\n",
    "\n",
    "df_group_results_1 = pd.read_csv(os.path.join(path_test1, \"group_results.csv\"))\n",
    "df_group_results_3 = pd.read_csv(os.path.join(path_test3, \"group_results.csv\"))"
   ]
  },
  {
   "cell_type": "code",
   "execution_count": 17,
   "id": "c78c8371",
   "metadata": {},
   "outputs": [],
   "source": [
    "def analyze_by_local_artefact(df_group_results_1, df_group_results_3, L_sub_ids):\n",
    "    id1 = [s in L_sub_ids for s in df_group_results_1.subid.tolist()]\n",
    "    subdf1 = df_group_results_1[id1]\n",
    "    id3 = [s in L_sub_ids for s in df_group_results_3.subid.tolist()]\n",
    "    subdf3 = df_group_results_3[id3]\n",
    "    subdf = pd.concat([subdf1, subdf3], axis=0, ignore_index=True)\n",
    "    return {\"mean_proba\": subdf.proba.mean(), \n",
    "            \"mean_x_proba\": subdf.x_proba.mean(), \n",
    "            \"mean_y_proba\": subdf.y_proba.mean(), \n",
    "            \"mean_z_proba\": subdf.z_proba.mean(),\n",
    "            \"median_proba\": subdf.proba.median(), \n",
    "            \"median_x_proba\": subdf.x_proba.median(), \n",
    "            \"median_y_proba\": subdf.y_proba.median(), \n",
    "            \"median_z_proba\": subdf.z_proba.median()}"
   ]
  },
  {
   "cell_type": "code",
   "execution_count": 18,
   "id": "b049937c",
   "metadata": {},
   "outputs": [
    {
     "data": {
      "text/plain": [
       "{'mean_proba': 0.1833333333333333,\n",
       " 'mean_x_proba': 0.21,\n",
       " 'mean_y_proba': 0.19,\n",
       " 'mean_z_proba': 0.15,\n",
       " 'median_proba': 0.1833333333333333,\n",
       " 'median_x_proba': 0.21,\n",
       " 'median_y_proba': 0.19,\n",
       " 'median_z_proba': 0.15}"
      ]
     },
     "execution_count": 18,
     "metadata": {},
     "output_type": "execute_result"
    }
   ],
   "source": [
    "L_sub_ids = L_kind_of_arc_xz\n",
    "\n",
    "analyze_by_local_artefact(df_group_results_1, df_group_results_3, L_sub_ids)"
   ]
  },
  {
   "cell_type": "code",
   "execution_count": null,
   "id": "44f26c1d",
   "metadata": {},
   "outputs": [],
   "source": []
  },
  {
   "cell_type": "markdown",
   "id": "b21e25ab",
   "metadata": {},
   "source": [
    "randomly picking slices containing artefacts"
   ]
  },
  {
   "cell_type": "code",
   "execution_count": null,
   "id": "0f148b04",
   "metadata": {},
   "outputs": [],
   "source": []
  },
  {
   "cell_type": "markdown",
   "id": "12be4ae1",
   "metadata": {},
   "source": [
    "See palette ith pillow here:\n",
    "https://stackoverflow.com/questions/52307290/what-is-the-difference-between-images-in-p-and-l-mode-in-pil/52307690#52307690"
   ]
  },
  {
   "cell_type": "code",
   "execution_count": 9,
   "id": "504145a3",
   "metadata": {},
   "outputs": [],
   "source": []
  },
  {
   "cell_type": "code",
   "execution_count": 62,
   "id": "682f37fa",
   "metadata": {
    "scrolled": true
   },
   "outputs": [],
   "source": [
    "### CODE IN script : get_slices_20000.py\n",
    "\n",
    "# # loop on all the subids\n",
    "# # get all the subids\n",
    "# subids = os.listdir(\"/home/mleanie/Downloads/data_local_artefact\")\n",
    "# dct_slices_plus_20000 = {k: [] for k in subids}\n",
    "\n",
    "# for subid in subids:\n",
    "#     all_files = os.listdir(os.path.join(\"/home/mleanie/Downloads/data_local_artefact\", subid))\n",
    "#     # for each axis\n",
    "#     # axis = 'x'\n",
    "#     for axis in ['x', 'y', 'z']:\n",
    "#         # get all the slice names\n",
    "#         all_files_axis = [f for f in all_files if ((\"png\" in f) & (axis in f))]\n",
    "#         for f in all_files_axis:\n",
    "#             # open each slice and add name into list if count_nonzero > 20000\n",
    "#             path = os.path.join(\"/home/mleanie/Downloads/data_local_artefact\", subid, f)\n",
    "#             img = Image.open(path).convert('L')\n",
    "#             if np.count_nonzero(np.array(img) != 0) >= 20000:\n",
    "#                 dct_slices_plus_20000[subid].append(path)"
   ]
  },
  {
   "cell_type": "code",
   "execution_count": 20,
   "id": "c35f8872",
   "metadata": {},
   "outputs": [],
   "source": [
    "dct_slices_plus_20000 = np.load('dct_slices_20000.npy', allow_pickle='TRUE').ravel()[0]"
   ]
  },
  {
   "cell_type": "code",
   "execution_count": 21,
   "id": "faeda600",
   "metadata": {},
   "outputs": [
    {
     "data": {
      "text/plain": [
       "'/home/mleanie/Downloads/data_local_artefact/SDSU-0050208/x_125_original_img.png'"
      ]
     },
     "execution_count": 21,
     "metadata": {},
     "output_type": "execute_result"
    }
   ],
   "source": [
    "dct_slices_plus_20000['SDSU-0050208'][0]"
   ]
  },
  {
   "cell_type": "code",
   "execution_count": 22,
   "id": "093db103",
   "metadata": {},
   "outputs": [],
   "source": [
    "def turn_sliceorigninal_to_protofolder(name):\n",
    "    slice_number = (name.split(\"/\")[-1]).split(\"_\")[1]\n",
    "    axis = (name.split(\"/\")[-1]).split(\"_\")[0]\n",
    "    subid = name.split(\"/\")[-2]\n",
    "    folder = os.path.join(\"/\".join(name.split(\"/\")[:-1]), axis + \"_\" + subid + \"-slice\" + slice_number)\n",
    "    return folder"
   ]
  },
  {
   "cell_type": "code",
   "execution_count": 23,
   "id": "531b99c1",
   "metadata": {},
   "outputs": [
    {
     "ename": "FileNotFoundError",
     "evalue": "[Errno 2] No such file or directory: '/home/mleanie/Downloads/data_local_artefact'",
     "output_type": "error",
     "traceback": [
      "\u001b[0;31m---------------------------------------------------------------------------\u001b[0m",
      "\u001b[0;31mFileNotFoundError\u001b[0m                         Traceback (most recent call last)",
      "\u001b[0;32m/tmp/ipykernel_27418/4065152286.py\u001b[0m in \u001b[0;36m<module>\u001b[0;34m\u001b[0m\n\u001b[1;32m      3\u001b[0m \u001b[0mn_reduce\u001b[0m \u001b[0;34m=\u001b[0m \u001b[0;36m10\u001b[0m\u001b[0;34m\u001b[0m\u001b[0;34m\u001b[0m\u001b[0m\n\u001b[1;32m      4\u001b[0m \u001b[0;34m\u001b[0m\u001b[0m\n\u001b[0;32m----> 5\u001b[0;31m \u001b[0msubids\u001b[0m \u001b[0;34m=\u001b[0m \u001b[0mos\u001b[0m\u001b[0;34m.\u001b[0m\u001b[0mlistdir\u001b[0m\u001b[0;34m(\u001b[0m\u001b[0;34m\"/home/mleanie/Downloads/data_local_artefact\"\u001b[0m\u001b[0;34m)\u001b[0m\u001b[0;34m\u001b[0m\u001b[0;34m\u001b[0m\u001b[0m\n\u001b[0m\u001b[1;32m      6\u001b[0m \u001b[0mdct_to_df\u001b[0m \u001b[0;34m=\u001b[0m \u001b[0;34m{\u001b[0m\u001b[0;34m\"subid\"\u001b[0m\u001b[0;34m:\u001b[0m \u001b[0;34m[\u001b[0m\u001b[0;34m]\u001b[0m\u001b[0;34m,\u001b[0m \u001b[0;34m\"path\"\u001b[0m\u001b[0;34m:\u001b[0m \u001b[0;34m[\u001b[0m\u001b[0;34m]\u001b[0m\u001b[0;34m,\u001b[0m \u001b[0;34m\"slice\"\u001b[0m\u001b[0;34m:\u001b[0m \u001b[0;34m[\u001b[0m\u001b[0;34m]\u001b[0m\u001b[0;34m}\u001b[0m\u001b[0;34m\u001b[0m\u001b[0;34m\u001b[0m\u001b[0m\n\u001b[1;32m      7\u001b[0m \u001b[0;31m# dct_to_df = {\"subid\": [], \"path\": [], \"slice\": [], \"axis\": []}\u001b[0m\u001b[0;34m\u001b[0m\u001b[0;34m\u001b[0m\u001b[0;34m\u001b[0m\u001b[0m\n",
      "\u001b[0;31mFileNotFoundError\u001b[0m: [Errno 2] No such file or directory: '/home/mleanie/Downloads/data_local_artefact'"
     ]
    }
   ],
   "source": [
    "np.random.seed(0)\n",
    "\n",
    "n_reduce = 10\n",
    "\n",
    "subids = os.listdir(\"/home/mleanie/Downloads/data_local_artefact\")\n",
    "dct_to_df = {\"subid\": [], \"path\": [], \"slice\": []}\n",
    "# dct_to_df = {\"subid\": [], \"path\": [], \"slice\": [], \"axis\": []}\n",
    "# select random slices for each subid\n",
    "for subid in subids:\n",
    "    # balanced between axis\n",
    "    x_files = [f for f in dct_slices_plus_20000[subid] if \"x\" in f]\n",
    "    y_files = [f for f in dct_slices_plus_20000[subid] if \"y\" in f]\n",
    "    z_files = [f for f in dct_slices_plus_20000[subid] if \"z\" in f]\n",
    "    \n",
    "    x_files = list(np.random.choice(np.array(x_files), size=int(len(x_files)/n_reduce), replace=False, p=None))\n",
    "    y_files = list(np.random.choice(np.array(y_files), size=int(len(y_files)/n_reduce), replace=False, p=None))\n",
    "    z_files = list(np.random.choice(np.array(z_files), size=int(len(z_files)/n_reduce), replace=False, p=None))\n",
    "    \n",
    "    # get it as the names of the corresponding folder containing the top 1 prototype\n",
    "    L = list(map(turn_sliceorigninal_to_protofolder, x_files))\n",
    "    L = L + list(map(turn_sliceorigninal_to_protofolder, y_files))\n",
    "    L = L + list(map(turn_sliceorigninal_to_protofolder, z_files))\n",
    "    slices = list(map(lambda x: x.split(\"/\")[-1], L))\n",
    "#     slices = list(map(lambda x: (x.split(\"/\")[-1]).split(\"slice\")[-1], L))\n",
    "#     axis = list(map(lambda x: (x.split(\"/\")[-1]).split(\"-slice\")[0], L))\n",
    "    # sort the folder names and subids as a dataframe and store it in a csv to make rating easy\n",
    "    dct_to_df[\"subid\"] = dct_to_df[\"subid\"] + [subid]*len(L)\n",
    "    dct_to_df[\"path\"] = dct_to_df[\"path\"] + L\n",
    "    dct_to_df[\"slice\"] = dct_to_df[\"slice\"] + slices\n",
    "#     dct_to_df[\"axis\"] = dct_to_df[\"axis\"] + axis"
   ]
  },
  {
   "cell_type": "code",
   "execution_count": 98,
   "id": "f8451b17",
   "metadata": {},
   "outputs": [],
   "source": [
    "pd.DataFrame(dct_to_df).sort_values([\"subid\", \"slice\"], ascending=True, ignore_index=True).to_csv(\"slices_to_verif.csv\")\n",
    "# pd.DataFrame(dct_to_df)"
   ]
  },
  {
   "cell_type": "code",
   "execution_count": 52,
   "id": "cb4e0b42",
   "metadata": {},
   "outputs": [
    {
     "data": {
      "text/plain": [
       "22413"
      ]
     },
     "execution_count": 52,
     "metadata": {},
     "output_type": "execute_result"
    }
   ],
   "source": [
    "path = \"/home/mleanie/Downloads/data_local_artefact/CMU-b-0050644/x_25_original_img.png\"\n",
    "img = Image.open(path).convert('L')\n",
    "\n",
    "np.count_nonzero(np.array(img) != 0)"
   ]
  },
  {
   "cell_type": "code",
   "execution_count": 53,
   "id": "ced8e1cc",
   "metadata": {},
   "outputs": [
    {
     "data": {
      "text/plain": [
       "<matplotlib.image.AxesImage at 0x7feb689f25e0>"
      ]
     },
     "execution_count": 53,
     "metadata": {},
     "output_type": "execute_result"
    },
    {
     "data": {
      "image/png": "[encoded data removed]",
      "text/plain": [
       "<Figure size 432x288 with 1 Axes>"
      ]
     },
     "metadata": {
      "needs_background": "light"
     },
     "output_type": "display_data"
    }
   ],
   "source": [
    "plt.imshow(np.array(img), cmap=\"gray\")"
   ]
  },
  {
   "cell_type": "code",
   "execution_count": null,
   "id": "63b6ee61",
   "metadata": {},
   "outputs": [],
   "source": []
  },
  {
   "cell_type": "code",
   "execution_count": 41,
   "id": "c0d8231f",
   "metadata": {},
   "outputs": [],
   "source": [
    "# plt.imshow(np.array(img)[:, :, 0] + np.array(img)[:, :, 1] + np.array(img)[:, :, 2])"
   ]
  },
  {
   "cell_type": "code",
   "execution_count": null,
   "id": "9c346366",
   "metadata": {},
   "outputs": [],
   "source": [
    "L_prototypes = []\n",
    "for subid in subids:\n",
    "    # look at global_analysis.log\n",
    "    path = os.path.join(\"/home/mleanie/Downloads/data_local_artefact/\", subid, \"global_analysis.log\")\n",
    "    prototypes_subid = []\n",
    "    with open(path, \"r\") as f:\n",
    "        f_readlines = f.readlines()\n",
    "        for i, l in enumerate(f_readlines):\n",
    "            if \"prototype index:\" in l:\n",
    "                prototype_number = l.split(\" \")[2]\n",
    "                prototypes_subid.append(prototype_number)\n",
    "                L_prototypes.append(prototype_number)\n",
    "    print(pd.Series(prototypes_subid).value_counts())"
   ]
  },
  {
   "cell_type": "code",
   "execution_count": 1,
   "id": "b0925415",
   "metadata": {},
   "outputs": [],
   "source": [
    "# L_prototypes = []\n",
    "# L_slice_prototype_301 = []\n",
    "# L_slice_prototype_1788 = []\n",
    "# L_slice_prototype_368 = []\n",
    "# L_slice_prototype_948 = []\n",
    "# L_slice_prototype_1939 = []\n",
    "# L_slice_prototype_1855 = []\n",
    "# L_slice_prototype_1997 = []\n",
    "# L_slice_prototype_1818 = []\n",
    "# L_slice_prototype_744 = []\n",
    "# L_slice_prototype_1901 = []\n",
    "# for subid in subids:\n",
    "#     # look at global_analysis.log\n",
    "#     path = os.path.join(\"/home/mleanie/Downloads/data_local_artefact/\", subid, \"global_analysis.log\")\n",
    "#     prototypes_subid = []\n",
    "#     with open(path, \"r\") as f:\n",
    "#         f_readlines = f.readlines()\n",
    "#         for i, l in enumerate(f_readlines):\n",
    "#             if \"prototype index:\" in l:\n",
    "#                 prototype_number = l.split(\" \")[2]\n",
    "#                 prototypes_subid.append(prototype_number)\n",
    "#                 L_prototypes.append(prototype_number)\n",
    "#                 if prototype_number == \"301\\n\":\n",
    "#                     L_slice_prototype_301.append((subid, f_readlines[i-3]))\n",
    "#                 elif prototype_number == \"1788\\n\":\n",
    "#                     L_slice_prototype_1788.append((subid, f_readlines[i-3]))\n",
    "#                 elif prototype_number == \"368\\n\":\n",
    "#                     L_slice_prototype_368.append((subid, f_readlines[i-3]))\n",
    "#                 elif prototype_number == \"948\\n\":\n",
    "#                     L_slice_prototype_948.append((subid, f_readlines[i-3]))\n",
    "#                 elif prototype_number == \"1939\\n\":\n",
    "#                     L_slice_prototype_1939.append((subid, f_readlines[i-3]))\n",
    "#                 elif prototype_number == \"1855\\n\":\n",
    "#                     L_slice_prototype_1855.append((subid, f_readlines[i-3]))\n",
    "#                 elif prototype_number == \"1997\\n\":\n",
    "#                     L_slice_prototype_1997.append((subid, f_readlines[i-3]))\n",
    "#                 elif prototype_number == \"1818\\n\":\n",
    "#                     L_slice_prototype_1818.append((subid, f_readlines[i-3]))\n",
    "#                 elif prototype_number == \"744\\n\":\n",
    "#                     L_slice_prototype_744.append((subid, f_readlines[i-3]))\n",
    "#                 elif prototype_number == \"1901\\n\":\n",
    "#                     L_slice_prototype_1901.append((subid, f_readlines[i-3]))\n",
    "#     print(pd.Series(prototypes_subid).value_counts())"
   ]
  },
  {
   "cell_type": "code",
   "execution_count": 115,
   "id": "abbf9028",
   "metadata": {},
   "outputs": [
    {
     "data": {
      "text/plain": [
       "[('SDSU-0050208', \"0 (0, 220, 'y', 3.296506179140124e-08)\\n\"),\n",
       " ('SDSU-0050208', \"0 (0, 37, 'z', 0.0)\\n\"),\n",
       " ('SDSU-0050208', \"0 (0, 36, 'z', 0.0)\\n\"),\n",
       " ('SDSU-0050208', \"0 (0, 33, 'z', 0.0)\\n\"),\n",
       " ('SDSU-0050208', \"0 (0, 46, 'z', 0.0)\\n\"),\n",
       " ('UM-1-0050290', \"0 (0, 7, 'y', 2.0078438059365499e-19)\\n\"),\n",
       " ('KKI-0050801', \"0 (0, 18, 'x', 0.00028091503190808)\\n\"),\n",
       " ('KKI-0050801', \"0 (0, 178, 'z', 2.822669742386097e-08)\\n\"),\n",
       " ('KKI-0050801', \"0 (0, 179, 'z', 0.0001885443489300087)\\n\"),\n",
       " ('KKI-0050801', \"0 (0, 10, 'z', 4.734142632772413e-25)\\n\"),\n",
       " ('UCLA-1-0051250', \"0 (1, 130, 'x', 1.0)\\n\"),\n",
       " ('UCLA-1-0051250', \"0 (0, 149, 'x', 1.5797051980317306e-13)\\n\"),\n",
       " ('Pitt-0050055', \"0 (0, 7, 'x', 4.79309786305393e-11)\\n\"),\n",
       " ('Pitt-0050055', \"0 (0, 162, 'x', 0.0)\\n\"),\n",
       " ('Pitt-0050055', \"0 (0, 11, 'x', 0.0)\\n\"),\n",
       " ('Pitt-0050055', \"0 (0, 251, 'y', 2.4335586203960702e-05)\\n\"),\n",
       " ('KKI-0050824', \"0 (1, 166, 'x', 0.9999889135360718)\\n\"),\n",
       " ('KKI-0050824', \"0 (0, 2, 'z', 6.994080194999697e-07)\\n\"),\n",
       " ('MaxMun-d-0051351', \"0 (0, 5, 'x', 0.0)\\n\"),\n",
       " ('MaxMun-d-0051351', \"0 (0, 224, 'y', 2.7992492763855015e-13)\\n\"),\n",
       " ('USM-0050524', \"0 (0, 4, 'z', 2.352475721716801e-16)\\n\"),\n",
       " ('Stanford-0051171', \"0 (0, 9, 'x', 2.6867903216043487e-05)\\n\"),\n",
       " ('Stanford-0051171', \"0 (0, 22, 'z', 0.0)\\n\"),\n",
       " ('NYU-0051070', \"0 (0, 6, 'z', 0.247508242726326)\\n\"),\n",
       " ('NYU-0051070', \"0 (0, 53, 'z', 0.02504175715148449)\\n\"),\n",
       " ('NYU-0051070', \"0 (0, 173, 'z', 2.4651644443172093e-25)\\n\"),\n",
       " ('NYU-0051070', \"0 (1, 10, 'z', 1.0)\\n\"),\n",
       " ('Olin-0050128', \"0 (0, 174, 'x', 6.662376292506918e-16)\\n\"),\n",
       " ('Olin-0050128', \"0 (0, 152, 'x', 2.716595548473683e-20)\\n\"),\n",
       " ('Olin-0050128', \"0 (0, 221, 'y', 0.0005021768156439066)\\n\"),\n",
       " ('Olin-0050128', \"0 (1, 6, 'z', 0.7568191289901733)\\n\"),\n",
       " ('KKI-0050788', \"0 (0, 14, 'x', 2.010809487668075e-12)\\n\"),\n",
       " ('KKI-0050788', \"0 (1, 3, 'x', 1.0)\\n\"),\n",
       " ('KKI-0050788', \"0 (0, 170, 'x', 0.0)\\n\"),\n",
       " ('KKI-0050788', \"0 (0, 12, 'z', 0.0)\\n\"),\n",
       " ('UCLA-2-0051302', \"0 (0, 10, 'x', 0.0011313575087115169)\\n\"),\n",
       " ('UCLA-2-0051302', \"0 (0, 15, 'x', 4.686484089688747e-09)\\n\"),\n",
       " ('UCLA-2-0051302', \"0 (0, 0, 'x', 0.0)\\n\"),\n",
       " ('UCLA-2-0051302', \"0 (1, 18, 'x', 1.0)\\n\"),\n",
       " ('UCLA-2-0051302', \"0 (1, 6, 'z', 1.0)\\n\"),\n",
       " ('UCLA-2-0051302', \"0 (1, 115, 'z', 1.0)\\n\"),\n",
       " ('UCLA-1-0051216', \"0 (0, 2, 'y', 0.008636384271085262)\\n\"),\n",
       " ('KKI-0050772', \"0 (0, 4, 'x', 0.0)\\n\"),\n",
       " ('Trinity-0050248', \"0 (1, 207, 'y', 1.0)\\n\"),\n",
       " ('Trinity-0050248', \"0 (0, 0, 'z', 5.752307288275915e-07)\\n\"),\n",
       " ('Leuven-2-0050746', \"0 (0, 183, 'x', 6.06090134677717e-12)\\n\"),\n",
       " ('Leuven-2-0050746', \"0 (1, 191, 'x', 1.0)\\n\"),\n",
       " ('Leuven-2-0050746', \"0 (0, 231, 'z', 1.64841022776141e-11)\\n\"),\n",
       " ('Leuven-2-0050746', \"0 (1, 2, 'z', 1.0)\\n\"),\n",
       " ('KKI-0050780', \"0 (0, 114, 'x', 0.0)\\n\"),\n",
       " ('Yale-0050553', \"0 (0, 167, 'x', 1.0061219548749264e-23)\\n\"),\n",
       " ('Yale-0050553', \"0 (0, 231, 'y', 0.0330919586122036)\\n\"),\n",
       " ('Yale-0050553', \"0 (0, 166, 'z', 0.0)\\n\"),\n",
       " ('Yale-0050553', \"0 (0, 191, 'z', 8.358217885710319e-15)\\n\"),\n",
       " ('Stanford-0051181', \"0 (0, 141, 'z', 6.4803855617130735e-34)\\n\"),\n",
       " ('Stanford-0051181', \"0 (0, 21, 'z', 0.0)\\n\"),\n",
       " ('UM-1-0050296', \"0 (0, 185, 'y', 9.093005814975186e-07)\\n\"),\n",
       " ('UM-1-0050296', \"0 (0, 1, 'z', 0.0)\\n\"),\n",
       " ('SBL-0051563', \"0 (0, 207, 'y', 0.0)\\n\"),\n",
       " ('SBL-0051563', \"0 (0, 3, 'z', 3.0640441650575667e-07)\\n\"),\n",
       " ('Caltech-0051463', \"0 (0, 11, 'x', 1.2754287581628887e-07)\\n\"),\n",
       " ('KKI-0050794', \"0 (0, 10, 'x', 0.0)\\n\"),\n",
       " ('KKI-0050794', \"0 (0, 54, 'x', 7.42688186092153e-44)\\n\"),\n",
       " ('KKI-0050812', \"0 (0, 167, 'z', 4.2700366804905826e-41)\\n\"),\n",
       " ('KKI-0050812', \"0 (1, 163, 'z', 0.9999951124191284)\\n\"),\n",
       " ('KKI-0050812', \"0 (0, 162, 'z', 0.0)\\n\"),\n",
       " ('Stanford-0051194', \"0 (0, 197, 'x', 0.09126877784729004)\\n\"),\n",
       " ('Stanford-0051194', \"0 (0, 198, 'x', 0.0019531240686774254)\\n\"),\n",
       " ('Stanford-0051194', \"0 (1, 13, 'x', 1.0)\\n\"),\n",
       " ('Stanford-0051194', \"0 (0, 200, 'x', 0.0)\\n\"),\n",
       " ('Stanford-0051194', \"0 (1, 7, 'z', 1.0)\\n\"),\n",
       " ('Stanford-0051194', \"0 (0, 8, 'z', 1.3400707410057833e-12)\\n\"),\n",
       " ('KKI-0050787', \"0 (0, 14, 'x', 1.9063720174017362e-05)\\n\"),\n",
       " ('KKI-0050787', \"0 (0, 179, 'x', 5.090871491120197e-05)\\n\"),\n",
       " ('KKI-0050784', \"0 (0, 161, 'x', 0.0)\\n\"),\n",
       " ('KKI-0050784', \"0 (0, 174, 'x', 2.7889261237507284e-17)\\n\"),\n",
       " ('KKI-0050784', \"0 (0, 164, 'x', 3.387514516361989e-05)\\n\"),\n",
       " ('KKI-0050784', \"0 (0, 157, 'x', 9.80523339614414e-24)\\n\"),\n",
       " ('KKI-0050784', \"0 (0, 3, 'x', 1.2441317420730513e-10)\\n\"),\n",
       " ('KKI-0050784', \"0 (0, 1, 'x', 0.0)\\n\"),\n",
       " ('KKI-0050784', \"0 (0, 6, 'x', 0.0)\\n\"),\n",
       " ('KKI-0050784', \"0 (0, 163, 'x', 0.0023686171043664217)\\n\"),\n",
       " ('NYU-0051030', \"0 (0, 1, 'x', 5.114951177046705e-15)\\n\"),\n",
       " ('NYU-0051030', \"0 (0, 122, 'x', 1.2820832553113007e-36)\\n\"),\n",
       " ('NYU-0051030', \"0 (1, 170, 'y', 1.0)\\n\"),\n",
       " ('NYU-0051030', \"0 (0, 58, 'z', 0.0)\\n\"),\n",
       " ('NYU-0051030', \"0 (0, 4, 'z', 0.0031415352132171392)\\n\"),\n",
       " ('NYU-0051030', \"0 (0, 217, 'z', 2.550626413722057e-05)\\n\"),\n",
       " ('Trinity-0050249', \"0 (0, 5, 'x', 0.0)\\n\"),\n",
       " ('Trinity-0050249', \"0 (1, 95, 'y', 0.9999884366989136)\\n\"),\n",
       " ('Trinity-0050249', \"0 (0, 220, 'y', 0.0)\\n\"),\n",
       " ('CMU-b-0050644', \"0 (0, 167, 'x', 1.0206476019902766e-07)\\n\"),\n",
       " ('CMU-b-0050644', \"0 (0, 7, 'z', 1.9543205942440522e-10)\\n\"),\n",
       " ('CMU-b-0050644', \"0 (0, 5, 'z', 1.1610674732764892e-07)\\n\"),\n",
       " ('CMU-b-0050644', \"0 (0, 4, 'z', 1.286184954096825e-07)\\n\"),\n",
       " ('Pitt-0050025', \"0 (0, 8, 'x', 0.0)\\n\"),\n",
       " ('Pitt-0050025', \"0 (0, 16, 'x', 4.3461412989548656e-14)\\n\"),\n",
       " ('Pitt-0050025', \"0 (0, 153, 'x', 0.0)\\n\"),\n",
       " ('Pitt-0050025', \"0 (0, 152, 'x', 0.0)\\n\"),\n",
       " ('Pitt-0050025', \"0 (0, 37, 'x', 0.0)\\n\"),\n",
       " ('Pitt-0050025', \"0 (0, 160, 'x', 0.0)\\n\"),\n",
       " ('Pitt-0050025', \"0 (0, 183, 'y', 9.849726905739139e-42)\\n\"),\n",
       " ('Pitt-0050025', \"0 (1, 199, 'y', 1.0)\\n\"),\n",
       " ('Pitt-0050025', \"0 (0, 189, 'z', 8.04326085058622e-31)\\n\"),\n",
       " ('Stanford-0051163', \"0 (0, 200, 'x', 0.015467539429664612)\\n\"),\n",
       " ('Stanford-0051163', \"0 (0, 126, 'x', 0.0)\\n\"),\n",
       " ('NYU-0051082', \"0 (0, 3, 'z', 1.027230723593675e-06)\\n\"),\n",
       " ('UCLA-1-0051278', \"0 (0, 147, 'x', 4.23316947717467e-07)\\n\"),\n",
       " ('UCLA-1-0051278', \"0 (1, 162, 'z', 1.0)\\n\"),\n",
       " ('Stanford-0051184', \"0 (0, 3, 'x', 2.4829072131637986e-10)\\n\"),\n",
       " ('Stanford-0051184', \"0 (1, 211, 'x', 0.9385775327682495)\\n\"),\n",
       " ('KKI-0050800', \"0 (0, 90, 'x', 0.0)\\n\"),\n",
       " ('KKI-0050800', \"0 (0, 0, 'x', 1.3246062580130058e-10)\\n\"),\n",
       " ('KKI-0050800', \"0 (0, 66, 'z', 0.0)\\n\"),\n",
       " ('KKI-0050800', \"0 (1, 18, 'z', 1.0)\\n\"),\n",
       " ('KKI-0050800', \"0 (0, 205, 'z', 1.1244927691222983e-06)\\n\"),\n",
       " ('NYU-0050976', \"0 (0, 5, 'x', 0.0)\\n\"),\n",
       " ('NYU-0050976', \"0 (0, 11, 'z', 0.011112917214632034)\\n\"),\n",
       " ('UM-2-0050412', \"0 (0, 205, 'y', 0.0)\\n\"),\n",
       " ('UM-2-0050412', \"0 (0, 3, 'y', 1.838939001075346e-10)\\n\"),\n",
       " ('UM-2-0050412', \"0 (1, 206, 'y', 1.0)\\n\"),\n",
       " ('NYU-0051097', \"0 (0, 19, 'x', 5.271091821027799e-18)\\n\"),\n",
       " ('NYU-0050977', \"0 (0, 6, 'x', 0.0)\\n\"),\n",
       " ('NYU-0050977', \"0 (0, 7, 'x', 0.1387496441602707)\\n\"),\n",
       " ('NYU-0050977', \"0 (0, 11, 'z', 0.4987320899963379)\\n\"),\n",
       " ('Trinity-0050250', \"0 (0, 41, 'z', 0.0)\\n\"),\n",
       " ('Trinity-0050241', \"0 (1, 167, 'z', 0.9877122044563293)\\n\"),\n",
       " ('Trinity-0050241', \"0 (0, 168, 'z', 0.0)\\n\"),\n",
       " ('NYU-0051044', \"0 (0, 1, 'x', 0.0)\\n\"),\n",
       " ('NYU-0051044', \"0 (0, 125, 'x', 0.0)\\n\"),\n",
       " ('NYU-0051044', \"0 (0, 2, 'y', 1.9746212274185382e-05)\\n\"),\n",
       " ('KKI-0050817', \"0 (0, 12, 'x', 2.872390897488595e-16)\\n\"),\n",
       " ('KKI-0050817', \"0 (0, 10, 'x', 0.0)\\n\"),\n",
       " ('KKI-0050817', \"0 (0, 197, 'y', 0.0005183751345612109)\\n\"),\n",
       " ('KKI-0050817', \"0 (1, 194, 'y', 0.9992861151695251)\\n\"),\n",
       " ('KKI-0050817', \"0 (0, 205, 'z', 9.170454395857064e-10)\\n\"),\n",
       " ('KKI-0050817', \"0 (0, 14, 'z', 1.0841386028914712e-05)\\n\"),\n",
       " ('KKI-0050817', \"0 (1, 186, 'z', 1.0)\\n\"),\n",
       " ('KKI-0050817', \"0 (1, 204, 'z', 1.0)\\n\"),\n",
       " ('KKI-0050817', \"0 (0, 21, 'z', 0.0)\\n\"),\n",
       " ('Stanford-0051169', \"0 (0, 4, 'x', 1.980730249956375e-12)\\n\"),\n",
       " ('Stanford-0051169', \"0 (0, 200, 'x', 0.0068679689429700375)\\n\"),\n",
       " ('Stanford-0051169', \"0 (0, 9, 'z', 0.0)\\n\"),\n",
       " ('NYU-0051063', \"0 (0, 118, 'x', 1.0771904201956062e-11)\\n\"),\n",
       " ('NYU-0051063', \"0 (0, 196, 'z', 2.4076524194477367e-12)\\n\"),\n",
       " ('Trinity-0050252', \"0 (0, 157, 'x', 7.009014202363772e-11)\\n\"),\n",
       " ('Trinity-0050252', \"0 (0, 0, 'y', 0.24072718620300293)\\n\"),\n",
       " ('UM-1-0050280', \"0 (1, 6, 'x', 0.9999998807907104)\\n\"),\n",
       " ('UM-1-0050280', \"0 (0, 3, 'y', 1.223615653245247e-09)\\n\"),\n",
       " ('UM-1-0050280', \"0 (0, 35, 'z', 0.0)\\n\"),\n",
       " ('KKI-0050795', \"0 (1, 0, 'x', 1.0)\\n\"),\n",
       " ('KKI-0050795', \"0 (0, 1, 'x', 0.0)\\n\"),\n",
       " ('KKI-0050795', \"0 (0, 16, 'x', 7.573204690853978e-15)\\n\"),\n",
       " ('KKI-0050795', \"0 (0, 2, 'z', 1.0409253263787832e-05)\\n\"),\n",
       " ('Stanford-0051177', \"0 (1, 77, 'x', 1.0)\\n\"),\n",
       " ('Stanford-0051177', \"0 (0, 42, 'z', 0.0)\\n\"),\n",
       " ('Pitt-0050042', \"0 (0, 249, 'y', 0.007508733309805393)\\n\"),\n",
       " ('Pitt-0050042', \"0 (1, 250, 'y', 1.0)\\n\"),\n",
       " ('Pitt-0050042', \"0 (0, 246, 'y', 6.262062535178359e-10)\\n\"),\n",
       " ('Pitt-0050042', \"0 (0, 247, 'y', 5.4775615154767365e-09)\\n\"),\n",
       " ('UCLA-1-0051239', \"0 (1, 147, 'z', 1.0)\\n\"),\n",
       " ('UCLA-1-0051239', \"0 (0, 7, 'z', 0.000826700939796865)\\n\"),\n",
       " ('SBL-0051561', \"0 (0, 207, 'y', 0.0)\\n\"),\n",
       " ('NYU-0050952', \"0 (0, 6, 'x', 0.00036770853330381215)\\n\"),\n",
       " ('NYU-0050952', \"0 (0, 3, 'y', 1.8183996530751756e-09)\\n\"),\n",
       " ('NYU-0050952', \"0 (0, 2, 'y', 1.4755266342092455e-08)\\n\"),\n",
       " ('NYU-0050952', \"0 (0, 233, 'y', 3.0856292141834274e-05)\\n\"),\n",
       " ('USM-0050528', \"0 (1, 9, 'x', 0.9101489186286926)\\n\"),\n",
       " ('USM-0050528', \"0 (0, 433, 'y', 8.90783553586516e-08)\\n\"),\n",
       " ('USM-0050528', \"0 (1, 251, 'z', 1.0)\\n\"),\n",
       " ('USM-0050528', \"0 (0, 214, 'z', 2.0766449324582936e-06)\\n\")]"
      ]
     },
     "execution_count": 115,
     "metadata": {},
     "output_type": "execute_result"
    }
   ],
   "source": [
    "L_slice_prototype_744"
   ]
  },
  {
   "cell_type": "code",
   "execution_count": 109,
   "id": "8a953ca2",
   "metadata": {
    "scrolled": true
   },
   "outputs": [
    {
     "data": {
      "text/plain": [
       "301\\n     0.640027\n",
       "1788\\n    0.226653\n",
       "368\\n     0.036023\n",
       "948\\n     0.024774\n",
       "1939\\n    0.014257\n",
       "1855\\n    0.008802\n",
       "1997\\n    0.007789\n",
       "1818\\n    0.007593\n",
       "744\\n     0.004809\n",
       "1901\\n    0.004049\n",
       "dtype: float64"
      ]
     },
     "execution_count": 109,
     "metadata": {},
     "output_type": "execute_result"
    }
   ],
   "source": [
    "(pd.Series(L_prototypes).value_counts()/len(L_prototypes)).iloc[:10]"
   ]
  },
  {
   "cell_type": "code",
   "execution_count": null,
   "id": "ac5d2b0d",
   "metadata": {},
   "outputs": [],
   "source": []
  }
 ],
 "metadata": {
  "kernelspec": {
   "display_name": "Python 3 (ipykernel)",
   "language": "python",
   "name": "python3"
  },
  "language_info": {
   "codemirror_mode": {
    "name": "ipython",
    "version": 3
   },
   "file_extension": ".py",
   "mimetype": "text/x-python",
   "name": "python",
   "nbconvert_exporter": "python",
   "pygments_lexer": "ipython3",
   "version": "3.8.10"
  }
 },
 "nbformat": 4,
 "nbformat_minor": 5
}
