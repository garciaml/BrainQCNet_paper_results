{
 "cells": [
  {
   "cell_type": "code",
   "execution_count": 1,
   "id": "d8a8df6c",
   "metadata": {},
   "outputs": [],
   "source": [
    "import pandas as pd"
   ]
  },
  {
   "cell_type": "code",
   "execution_count": 11,
   "id": "03dfb0df",
   "metadata": {},
   "outputs": [],
   "source": [
    "df_ds000030 = pd.read_csv(\"./pheno_files/ds000030/participants.tsv\", sep=\"\\t\")\n",
    "df_ds000030_mriqc = pd.read_csv(\"./pheno_files/ds000030/ds030.tsv\", sep=\"\\t\")"
   ]
  },
  {
   "cell_type": "code",
   "execution_count": 8,
   "id": "34f2ea93",
   "metadata": {},
   "outputs": [
    {
     "data": {
      "text/plain": [
       "No_ghost    217\n",
       "ghost        55\n",
       "Name: ghost_NoGhost, dtype: int64"
      ]
     },
     "execution_count": 8,
     "metadata": {},
     "output_type": "execute_result"
    }
   ],
   "source": [
    "df_ds000030[\"ghost_NoGhost\"].value_counts()"
   ]
  },
  {
   "cell_type": "code",
   "execution_count": 17,
   "id": "69037d06",
   "metadata": {},
   "outputs": [
    {
     "data": {
      "text/plain": [
       " 0    145\n",
       "-1     75\n",
       " 1     45\n",
       "Name: rater_1, dtype: int64"
      ]
     },
     "execution_count": 17,
     "metadata": {},
     "output_type": "execute_result"
    }
   ],
   "source": [
    "df_ds000030_mriqc.rater_1.value_counts()"
   ]
  },
  {
   "cell_type": "code",
   "execution_count": 19,
   "id": "61e8f728",
   "metadata": {},
   "outputs": [
    {
     "data": {
      "text/plain": [
       "has_ghost  rater_1\n",
       "0           0         144\n",
       "            1          45\n",
       "           -1          28\n",
       "1          -1          47\n",
       "            0           1\n",
       "Name: rater_1, dtype: int64"
      ]
     },
     "execution_count": 19,
     "metadata": {},
     "output_type": "execute_result"
    }
   ],
   "source": [
    "df_ds000030_mriqc.groupby(\"has_ghost\").rater_1.value_counts()"
   ]
  },
  {
   "cell_type": "code",
   "execution_count": 37,
   "id": "77a598ca",
   "metadata": {},
   "outputs": [],
   "source": [
    "sub_df_ds000030_ghost = df_ds000030.query(\"ghost_NoGhost == 'ghost'\").participant_id.tolist()\n",
    "# sub_df_ds000030_ghost = list(map(lambda x: int(x.split(\"-\")[-1]), sub_df_ds000030_ghost))"
   ]
  },
  {
   "cell_type": "code",
   "execution_count": 27,
   "id": "8fc02653",
   "metadata": {},
   "outputs": [],
   "source": [
    "sub_df_ds000030_mriqc_ghost = df_ds000030_mriqc.query(\"has_ghost == 1\").subject_id.tolist()"
   ]
  },
  {
   "cell_type": "code",
   "execution_count": 28,
   "id": "6d04a264",
   "metadata": {
    "scrolled": true
   },
   "outputs": [
    {
     "data": {
      "text/plain": [
       "{10299, 10428, 10501, 10971, 11121, 70035, 70036}"
      ]
     },
     "execution_count": 28,
     "metadata": {},
     "output_type": "execute_result"
    }
   ],
   "source": [
    "set(sub_df_ds000030_ghost).difference(sub_df_ds000030_mriqc_ghost)"
   ]
  },
  {
   "cell_type": "code",
   "execution_count": 36,
   "id": "ac1f410b",
   "metadata": {},
   "outputs": [
    {
     "data": {
      "text/html": [
       "<div>\n",
       "<style scoped>\n",
       "    .dataframe tbody tr th:only-of-type {\n",
       "        vertical-align: middle;\n",
       "    }\n",
       "\n",
       "    .dataframe tbody tr th {\n",
       "        vertical-align: top;\n",
       "    }\n",
       "\n",
       "    .dataframe thead th {\n",
       "        text-align: right;\n",
       "    }\n",
       "</style>\n",
       "<table border=\"1\" class=\"dataframe\">\n",
       "  <thead>\n",
       "    <tr style=\"text-align: right;\">\n",
       "      <th></th>\n",
       "      <th>subject_id</th>\n",
       "      <th>site</th>\n",
       "      <th>has_ghost</th>\n",
       "      <th>rater_1</th>\n",
       "      <th>cjv</th>\n",
       "      <th>cnr</th>\n",
       "      <th>efc</th>\n",
       "      <th>fber</th>\n",
       "      <th>fwhm_avg</th>\n",
       "      <th>fwhm_x</th>\n",
       "      <th>...</th>\n",
       "      <th>summary_wm_mean</th>\n",
       "      <th>summary_wm_median</th>\n",
       "      <th>summary_wm_n</th>\n",
       "      <th>summary_wm_p05</th>\n",
       "      <th>summary_wm_p95</th>\n",
       "      <th>summary_wm_stdv</th>\n",
       "      <th>tpm_overlap_csf</th>\n",
       "      <th>tpm_overlap_gm</th>\n",
       "      <th>tpm_overlap_wm</th>\n",
       "      <th>wm2max</th>\n",
       "    </tr>\n",
       "  </thead>\n",
       "  <tbody>\n",
       "  </tbody>\n",
       "</table>\n",
       "<p>0 rows × 72 columns</p>\n",
       "</div>"
      ],
      "text/plain": [
       "Empty DataFrame\n",
       "Columns: [subject_id, site, has_ghost, rater_1, cjv, cnr, efc, fber, fwhm_avg, fwhm_x, fwhm_y, fwhm_z, icvs_csf, icvs_gm, icvs_wm, inu_med, inu_range, qi_1, qi_2, rpve_csf, rpve_gm, rpve_wm, size_x, size_y, size_z, snr_csf, snr_gm, snr_total, snr_wm, snrd_csf, snrd_gm, snrd_total, snrd_wm, spacing_x, spacing_y, spacing_z, summary_bg_k, summary_bg_mad, summary_bg_mean, summary_bg_median, summary_bg_n, summary_bg_p05, summary_bg_p95, summary_bg_stdv, summary_csf_k, summary_csf_mad, summary_csf_mean, summary_csf_median, summary_csf_n, summary_csf_p05, summary_csf_p95, summary_csf_stdv, summary_gm_k, summary_gm_mad, summary_gm_mean, summary_gm_median, summary_gm_n, summary_gm_p05, summary_gm_p95, summary_gm_stdv, summary_wm_k, summary_wm_mad, summary_wm_mean, summary_wm_median, summary_wm_n, summary_wm_p05, summary_wm_p95, summary_wm_stdv, tpm_overlap_csf, tpm_overlap_gm, tpm_overlap_wm, wm2max]\n",
       "Index: []\n",
       "\n",
       "[0 rows x 72 columns]"
      ]
     },
     "execution_count": 36,
     "metadata": {},
     "output_type": "execute_result"
    }
   ],
   "source": [
    "df_ds000030_mriqc[df_ds000030_mriqc.subject_id == 70036]"
   ]
  },
  {
   "cell_type": "markdown",
   "id": "95f025df",
   "metadata": {},
   "source": [
    "Let's build the cmd lines"
   ]
  },
  {
   "cell_type": "code",
   "execution_count": 40,
   "id": "adec2990",
   "metadata": {},
   "outputs": [],
   "source": [
    "with open(\"./get_ds000030_anat_aws.sh\", \"w\") as f:\n",
    "    for subid in sub_df_ds000030_ghost:\n",
    "        f.write(\"aws s3 sync --no-sign-request s3://openneuro.org/ds000030/\" + subid + \"/anat ds000030-download/\" + subid + \"\\n\")"
   ]
  }
 ],
 "metadata": {
  "kernelspec": {
   "display_name": "Python 3 (ipykernel)",
   "language": "python",
   "name": "python3"
  },
  "language_info": {
   "codemirror_mode": {
    "name": "ipython",
    "version": 3
   },
   "file_extension": ".py",
   "mimetype": "text/x-python",
   "name": "python",
   "nbconvert_exporter": "python",
   "pygments_lexer": "ipython3",
   "version": "3.8.10"
  }
 },
 "nbformat": 4,
 "nbformat_minor": 5
}
