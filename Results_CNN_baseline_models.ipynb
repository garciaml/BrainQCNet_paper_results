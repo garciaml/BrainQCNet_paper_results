{
 "cells": [
  {
   "cell_type": "code",
   "execution_count": 2,
   "id": "e5537cc1",
   "metadata": {},
   "outputs": [],
   "source": [
    "import pandas as pd\n",
    "from sklearn.metrics import roc_auc_score, accuracy_score"
   ]
  },
  {
   "cell_type": "code",
   "execution_count": 3,
   "id": "fb221b3c",
   "metadata": {},
   "outputs": [],
   "source": [
    "df_train_full_true = pd.read_csv(\"pheno_files/train_files_exp3.csv\", header=None)\n",
    "df_train_full_true.columns = [\"subid\", \"class\"]\n",
    "\n",
    "df_val_full_true = pd.read_csv(\"pheno_files/validation_files_exp3.csv\", header=None)\n",
    "df_val_full_true.columns = [\"subid\", \"class\"]\n",
    "\n",
    "df_testset1_true = pd.read_csv(\"pheno_files/test_other_scans.csv\", index_col=0)\n",
    "df_testset1_true.columns = [\"subid\", \"class\"]\n",
    "\n",
    "df_testset3_good_true = pd.read_csv(\"pheno_files/testset3_good.csv\", header=None)\n",
    "df_testset3_good_true.columns = [\"subid\", \"class\"]\n",
    "\n",
    "df_testset3_good_medium_true = pd.read_csv(\"pheno_files/testset3_good_medium_scans.csv\", header=None)\n",
    "df_testset3_good_medium_true.columns = [\"subid\", \"class\"]\n"
   ]
  },
  {
   "cell_type": "code",
   "execution_count": 4,
   "id": "f3f86b8f",
   "metadata": {},
   "outputs": [],
   "source": [
    "df_train_full_resnet = pd.read_csv(\"results/CNN_baselines/train_full_tot_df_resnet152.csv\", index_col=0)\n",
    "df_train_full_resnet = df_train_full_resnet.merge(df_train_full_true, on=\"subid\")\n",
    "\n",
    "df_train_full_vgg = pd.read_csv(\"results/CNN_baselines/train_full_tot_df_vgg19.csv\", index_col=0)\n",
    "df_train_full_vgg = df_train_full_vgg.merge(df_train_full_true, on=\"subid\")\n",
    "\n",
    "df_train_full_densenet = pd.read_csv(\"results/CNN_baselines/train_full_tot_df_densenet161.csv\", index_col=0)\n",
    "df_train_full_densenet = df_train_full_densenet.merge(df_train_full_true, on=\"subid\")\n",
    "\n",
    "df_val_full_resnet = pd.read_csv(\"results/CNN_baselines/val_full_tot_df_resnet152.csv\", index_col=0)\n",
    "df_val_full_resnet = df_val_full_resnet.merge(df_val_full_true, on=\"subid\")\n",
    "\n",
    "df_val_full_vgg = pd.read_csv(\"results/CNN_baselines/val_full_tot_df_vgg19.csv\", index_col=0)\n",
    "df_val_full_vgg = df_val_full_vgg.merge(df_val_full_true, on=\"subid\")\n",
    "\n",
    "df_val_full_densenet = pd.read_csv(\"results/CNN_baselines/val_full_tot_df_densenet161.csv\", index_col=0)\n",
    "df_val_full_densenet = df_val_full_densenet.merge(df_val_full_true, on=\"subid\")\n",
    "\n",
    "df_testset1_resnet = pd.read_csv(\"results/CNN_baselines/testset1_tot_df_resnet152.csv\", index_col=0)\n",
    "df_testset1_resnet = df_testset1_resnet.merge(df_testset1_true, on=\"subid\")\n",
    "\n",
    "df_testset1_vgg = pd.read_csv(\"results/CNN_baselines/testset1_tot_df_vgg19.csv\", index_col=0)\n",
    "df_testset1_vgg = df_testset1_vgg.merge(df_testset1_true, on=\"subid\")\n",
    "\n",
    "df_testset1_densenet = pd.read_csv(\"results/CNN_baselines/testset1_tot_df_densenet161.csv\", index_col=0)\n",
    "df_testset1_densenet = df_testset1_densenet.merge(df_testset1_true, on=\"subid\")\n",
    "\n",
    "df_testset3_good_medium_resnet = pd.read_csv(\"results/CNN_baselines/testset3_good_medium_tot_df_resnet152.csv\", index_col=0)\n",
    "df_testset3_good_medium_resnet = df_testset3_good_medium_resnet.merge(df_testset3_good_medium_true, on=\"subid\")\n",
    "\n",
    "df_testset3_good_medium_vgg = pd.read_csv(\"results/CNN_baselines/testset3_good_medium_tot_df_vgg19.csv\", index_col=0)\n",
    "df_testset3_good_medium_vgg = df_testset3_good_medium_vgg.merge(df_testset3_good_medium_true, on=\"subid\")\n",
    "\n",
    "df_testset3_good_medium_densenet = pd.read_csv(\"results/CNN_baselines/testset3_good_medium_tot_df_densenet161.csv\", index_col=0)\n",
    "df_testset3_good_medium_densenet = df_testset3_good_medium_densenet.merge(df_testset3_good_medium_true, on=\"subid\")\n",
    "\n",
    "df_testset3_good_part1_resnet = pd.read_csv(\"results/CNN_baselines/testset3_good_part1_tot_df_resnet152.csv\", index_col=0)\n",
    "df_testset3_good_part1_resnet = df_testset3_good_part1_resnet.merge(df_testset3_good_true, on=\"subid\")\n",
    "\n",
    "df_testset3_good_part1_vgg = pd.read_csv(\"results/CNN_baselines/testset3_good_part1_tot_df_vgg19.csv\", index_col=0)\n",
    "df_testset3_good_part1_vgg = df_testset3_good_part1_vgg.merge(df_testset3_good_true, on=\"subid\")\n",
    "\n",
    "df_testset3_good_part1_densenet = pd.read_csv(\"results/CNN_baselines/testset3_good_part1_tot_df_densenet161.csv\", index_col=0)\n",
    "df_testset3_good_part1_densenet = df_testset3_good_part1_densenet.merge(df_testset3_good_true, on=\"subid\")\n",
    "\n",
    "df_testset3_good_part2_resnet = pd.read_csv(\"results/CNN_baselines/testset3_good_part2_tot_df_resnet152.csv\", index_col=0)\n",
    "df_testset3_good_part2_resnet = df_testset3_good_part2_resnet.merge(df_testset3_good_true, on=\"subid\")\n",
    "\n",
    "df_testset3_good_part2_vgg = pd.read_csv(\"results/CNN_baselines/testset3_good_part2_tot_df_vgg19.csv\", index_col=0)\n",
    "df_testset3_good_part2_vgg = df_testset3_good_part2_vgg.merge(df_testset3_good_true, on=\"subid\")\n",
    "\n",
    "df_testset3_good_part2_densenet = pd.read_csv(\"results/CNN_baselines/testset3_good_part2_tot_df_densenet161.csv\", index_col=0)\n",
    "df_testset3_good_part2_densenet = df_testset3_good_part2_densenet.merge(df_testset3_good_true, on=\"subid\")\n"
   ]
  },
  {
   "cell_type": "code",
   "execution_count": 6,
   "id": "adec1423",
   "metadata": {
    "scrolled": true
   },
   "outputs": [],
   "source": [
    "df_testset_resnet = pd.concat([df_testset1_resnet, df_testset3_good_medium_resnet,\n",
    "                              df_testset3_good_part1_resnet, df_testset3_good_part2_resnet],\n",
    "                             axis=0, ignore_index=True)"
   ]
  },
  {
   "cell_type": "code",
   "execution_count": 7,
   "id": "94f51b1b",
   "metadata": {},
   "outputs": [],
   "source": [
    "df_testset_vgg = pd.concat([df_testset1_vgg, df_testset3_good_medium_vgg,\n",
    "                              df_testset3_good_part1_vgg, df_testset3_good_part2_vgg],\n",
    "                             axis=0, ignore_index=True)"
   ]
  },
  {
   "cell_type": "code",
   "execution_count": 8,
   "id": "352a20a4",
   "metadata": {},
   "outputs": [],
   "source": [
    "df_testset_densenet = pd.concat([df_testset1_densenet, df_testset3_good_medium_densenet,\n",
    "                              df_testset3_good_part1_densenet, df_testset3_good_part2_densenet],\n",
    "                             axis=0, ignore_index=True)"
   ]
  },
  {
   "cell_type": "code",
   "execution_count": 9,
   "id": "e3e30bd8",
   "metadata": {},
   "outputs": [
    {
     "name": "stdout",
     "output_type": "stream",
     "text": [
      "DenseNet161 results:\n",
      "\n",
      "train roc auc:  1.0\n",
      "val roc auc:  1.0\n",
      "test roc auc:  0.7865355861244019\n",
      "\n",
      "train accuracy:  1.0\n",
      "val accuracy:  1.0\n",
      "test accuracy:  0.6806167400881057\n"
     ]
    }
   ],
   "source": [
    "print(\"DenseNet161 results:\\n\")\n",
    "print(\"train roc auc: \",roc_auc_score(y_true=df_train_full_densenet[\"class\"], y_score=df_train_full_densenet.proba))\n",
    "print(\"val roc auc: \", roc_auc_score(y_true=df_val_full_densenet[\"class\"], y_score=df_val_full_densenet.proba))\n",
    "print(\"test roc auc: \", roc_auc_score(y_true=df_testset_densenet[\"class\"], y_score=df_testset_densenet.proba))\n",
    "print()\n",
    "print(\"train accuracy: \", accuracy_score(y_true=df_train_full_densenet[\"class\"], y_pred=df_train_full_densenet.pred))\n",
    "print(\"val accuracy: \", accuracy_score(y_true=df_val_full_densenet[\"class\"], y_pred=df_val_full_densenet.pred))\n",
    "print(\"test accuracy: \", accuracy_score(y_true=df_testset_densenet[\"class\"], y_pred=df_testset_densenet.pred))"
   ]
  },
  {
   "cell_type": "code",
   "execution_count": 10,
   "id": "3b493eb9",
   "metadata": {},
   "outputs": [
    {
     "name": "stdout",
     "output_type": "stream",
     "text": [
      "ResNet152 results:\n",
      "\n",
      "train roc auc:  1.0\n",
      "val roc auc:  1.0\n",
      "test roc auc:  0.7919657097288677\n",
      "\n",
      "train accuracy:  1.0\n",
      "val accuracy:  1.0\n",
      "test accuracy:  0.6927312775330396\n"
     ]
    }
   ],
   "source": [
    "print(\"ResNet152 results:\\n\")\n",
    "print(\"train roc auc: \",roc_auc_score(y_true=df_train_full_resnet[\"class\"], y_score=df_train_full_resnet.proba))\n",
    "print(\"val roc auc: \", roc_auc_score(y_true=df_val_full_resnet[\"class\"], y_score=df_val_full_resnet.proba))\n",
    "print(\"test roc auc: \", roc_auc_score(y_true=df_testset_resnet[\"class\"], y_score=df_testset_resnet.proba))\n",
    "print()\n",
    "print(\"train accuracy: \", accuracy_score(y_true=df_train_full_resnet[\"class\"], y_pred=df_train_full_resnet.pred))\n",
    "print(\"val accuracy: \", accuracy_score(y_true=df_val_full_resnet[\"class\"], y_pred=df_val_full_resnet.pred))\n",
    "print(\"test accuracy: \", accuracy_score(y_true=df_testset_resnet[\"class\"], y_pred=df_testset_resnet.pred))"
   ]
  },
  {
   "cell_type": "code",
   "execution_count": 11,
   "id": "8fdd8878",
   "metadata": {},
   "outputs": [
    {
     "name": "stdout",
     "output_type": "stream",
     "text": [
      "VGG19 results:\n",
      "\n",
      "train roc auc:  1.0\n",
      "val roc auc:  1.0\n",
      "test roc auc:  0.7806967703349282\n",
      "\n",
      "train accuracy:  1.0\n",
      "val accuracy:  1.0\n",
      "test accuracy:  0.6861233480176211\n"
     ]
    }
   ],
   "source": [
    "print(\"VGG19 results:\\n\")\n",
    "print(\"train roc auc: \",roc_auc_score(y_true=df_train_full_vgg[\"class\"], y_score=df_train_full_vgg.proba))\n",
    "print(\"val roc auc: \", roc_auc_score(y_true=df_val_full_vgg[\"class\"], y_score=df_val_full_vgg.proba))\n",
    "print(\"test roc auc: \", roc_auc_score(y_true=df_testset_vgg[\"class\"], y_score=df_testset_vgg.proba))\n",
    "print()\n",
    "print(\"train accuracy: \", accuracy_score(y_true=df_train_full_vgg[\"class\"], y_pred=df_train_full_vgg.pred))\n",
    "print(\"val accuracy: \", accuracy_score(y_true=df_val_full_vgg[\"class\"], y_pred=df_val_full_vgg.pred))\n",
    "print(\"test accuracy: \", accuracy_score(y_true=df_testset_vgg[\"class\"], y_pred=df_testset_vgg.pred))"
   ]
  },
  {
   "cell_type": "markdown",
   "id": "63a9a75d",
   "metadata": {},
   "source": [
    "Results on testset per class:"
   ]
  },
  {
   "cell_type": "code",
   "execution_count": 12,
   "id": "df030b5e",
   "metadata": {},
   "outputs": [
    {
     "data": {
      "text/plain": [
       "0    528\n",
       "1    380\n",
       "Name: class, dtype: int64"
      ]
     },
     "execution_count": 12,
     "metadata": {},
     "output_type": "execute_result"
    }
   ],
   "source": [
    "df_testset_vgg[\"class\"].value_counts()"
   ]
  },
  {
   "cell_type": "code",
   "execution_count": 13,
   "id": "58a4f668",
   "metadata": {},
   "outputs": [
    {
     "data": {
      "text/plain": [
       " 0    618\n",
       "-1    288\n",
       " 1      2\n",
       "dtype: int64"
      ]
     },
     "execution_count": 13,
     "metadata": {},
     "output_type": "execute_result"
    }
   ],
   "source": [
    "(df_testset_densenet.pred - df_testset_densenet[\"class\"]).value_counts()"
   ]
  },
  {
   "cell_type": "code",
   "execution_count": 14,
   "id": "10c7c146",
   "metadata": {},
   "outputs": [
    {
     "data": {
      "text/plain": [
       " 0    629\n",
       "-1    276\n",
       " 1      3\n",
       "dtype: int64"
      ]
     },
     "execution_count": 14,
     "metadata": {},
     "output_type": "execute_result"
    }
   ],
   "source": [
    "(df_testset_resnet.pred - df_testset_resnet[\"class\"]).value_counts()"
   ]
  },
  {
   "cell_type": "code",
   "execution_count": 15,
   "id": "4f9c5ebc",
   "metadata": {},
   "outputs": [
    {
     "data": {
      "text/plain": [
       " 0    623\n",
       "-1    283\n",
       " 1      2\n",
       "dtype: int64"
      ]
     },
     "execution_count": 15,
     "metadata": {},
     "output_type": "execute_result"
    }
   ],
   "source": [
    "(df_testset_vgg.pred - df_testset_vgg[\"class\"]).value_counts()"
   ]
  },
  {
   "cell_type": "markdown",
   "id": "ea5d1632",
   "metadata": {},
   "source": [
    "# ADHD200"
   ]
  },
  {
   "cell_type": "code",
   "execution_count": 16,
   "id": "42f47d3f",
   "metadata": {},
   "outputs": [],
   "source": [
    "df_adhd200_pheno = pd.read_csv(\"pheno_files/adhd200.csv\", index_col=0)\n",
    "df_adhd200_pheno.QC_Anatomical_1.replace(-999.0, 1.0, inplace=True)"
   ]
  },
  {
   "cell_type": "code",
   "execution_count": 17,
   "id": "cc956a07",
   "metadata": {},
   "outputs": [],
   "source": [
    "model = \"densnet161\"\n",
    "# model = \"resnet152\"\n",
    "# model = \"vgg19\"\n",
    "\n",
    "df_adhd200_KKI = pd.read_csv(\"results/CNN_baselines/ADHD200_KKI_group_results_\" + model + \".csv\")\n",
    "df_adhd200_KKI[\"Site\"] = [\"KKI\"]*df_adhd200_KKI.shape[0]\n",
    "df_adhd200_NeuroIMAGE = pd.read_csv(\"results/CNN_baselines/ADHD200_neuroimage_group_results_\" + model + \".csv\")\n",
    "df_adhd200_NeuroIMAGE[\"Site\"] = [\"NeuroIMAGE\"]*df_adhd200_NeuroIMAGE.shape[0]\n",
    "df_adhd200_NYU = pd.read_csv(\"results/CNN_baselines/ADHD200_NYU_group_results_\" + model + \".csv\")\n",
    "df_adhd200_NYU[\"Site\"] = [\"NYU\"]*df_adhd200_NYU.shape[0]\n",
    "df_adhd200_OHSU = pd.read_csv(\"results/CNN_baselines/ADHD200_OHSU_group_results_\" + model + \".csv\")\n",
    "df_adhd200_OHSU[\"Site\"] = [\"OHSU\"]*df_adhd200_OHSU.shape[0]\n",
    "df_adhd200_Peking = pd.read_csv(\"results/CNN_baselines/ADHD200_Peking_group_results_\" + model + \".csv\")\n",
    "df_adhd200_Peking[\"Site\"] = [\"Peking\"]*df_adhd200_Peking.shape[0]\n",
    "df_adhd200_Pittsburgh = pd.read_csv(\"results/CNN_baselines/ADHD200_Pittsburgh_group_results_\" + model + \".csv\")\n",
    "df_adhd200_Pittsburgh[\"Site\"] = [\"Pittsburg\"]*df_adhd200_Pittsburgh.shape[0]\n",
    "df_adhd200_WashU = pd.read_csv(\"results/CNN_baselines/ADHD200_WashU_group_results_\" + model + \".csv\")\n",
    "df_adhd200_WashU[\"Site\"] = [\"WashU\"]*df_adhd200_WashU.shape[0]\n",
    "df_adhd200 = pd.concat([df_adhd200_KKI, df_adhd200_NeuroIMAGE, df_adhd200_NYU, df_adhd200_OHSU,\n",
    "                       df_adhd200_Peking, df_adhd200_Pittsburgh, df_adhd200_WashU], axis=0)"
   ]
  },
  {
   "cell_type": "code",
   "execution_count": 19,
   "id": "a9b87ac6",
   "metadata": {},
   "outputs": [
    {
     "data": {
      "text/plain": [
       "751"
      ]
     },
     "execution_count": 19,
     "metadata": {},
     "output_type": "execute_result"
    }
   ],
   "source": [
    "common_subids = list(set(df_adhd200.subid) & set(df_adhd200_pheno[\"ScanDir ID\"]))\n",
    "len(common_subids)"
   ]
  },
  {
   "cell_type": "code",
   "execution_count": 21,
   "id": "d64d895f",
   "metadata": {},
   "outputs": [
    {
     "name": "stdout",
     "output_type": "stream",
     "text": [
      "Age:\n",
      "count    751.000000\n",
      "mean      11.717364\n",
      "std        3.283292\n",
      "min        7.090000\n",
      "25%        9.170000\n",
      "50%       11.000000\n",
      "75%       13.570000\n",
      "max       21.830000\n",
      "dtype: float64\n",
      "Gender:\n",
      "1.0    424\n",
      "0.0    326\n",
      "dtype: int64\n",
      "Samples:\n",
      "5    222\n",
      "1    136\n",
      "6    113\n",
      "7     89\n",
      "3     83\n",
      "8     60\n",
      "4     48\n",
      "dtype: int64\n"
     ]
    }
   ],
   "source": [
    "# Data description - Demographics\n",
    "filenames = [\"Brown_TestRelease_phenotypic.csv\", \"KKI_phenotypic.csv\",\n",
    "            \"NeuroIMAGE_phenotypic.csv\", \"NYU_phenotypic.csv\", \"OHSU_phenotypic.csv\",\n",
    "            \"OHSU_TestRelease_phenotypic.csv\", \"Peking_1_phenotypic.csv\", \n",
    "            \"Pittsburgh_phenotypic.csv\", ]\n",
    "adhd200_age = []\n",
    "adhd200_sex = []\n",
    "adhd200_site = [] \n",
    "for filename in filenames:\n",
    "    df_adhd200_demog = pd.read_csv(\"pheno_files/ADHD200_pheno_files/\" + filename)\n",
    "    df_adhd200_demog = df_adhd200_demog[[el in common_subids for el in df_adhd200_demog[\"ScanDir ID\"]]]\n",
    "    adhd200_age = adhd200_age + df_adhd200_demog.Age.tolist()\n",
    "    adhd200_sex = adhd200_sex + df_adhd200_demog.Gender.tolist()\n",
    "    adhd200_site = adhd200_site + df_adhd200_demog.Site.tolist()\n",
    "    \n",
    "df_adhd200_demog = pd.read_csv(\"pheno_files/ADHD200_pheno_files/\" + \"Peking_1_TestRelease_phenotypic.csv\")\n",
    "df_adhd200_demog = df_adhd200_demog[[el in common_subids for el in df_adhd200_demog[\"ID\"]]]\n",
    "adhd200_age = adhd200_age + df_adhd200_demog.Age.tolist()\n",
    "adhd200_sex = adhd200_sex + df_adhd200_demog.Gender.tolist()\n",
    "adhd200_site = adhd200_site + df_adhd200_demog.Site.tolist()\n",
    "    \n",
    "df_adhd200_demog = pd.read_csv(\"pheno_files/ADHD200_pheno_files/\" + \"WashU_phenotypic.csv\")\n",
    "df_adhd200_demog = df_adhd200_demog[[el in common_subids for el in df_adhd200_demog[\"ScanDirID\"]]]\n",
    "adhd200_age = adhd200_age + df_adhd200_demog.Age.tolist()\n",
    "adhd200_sex = adhd200_sex + df_adhd200_demog.Gender.tolist()\n",
    "adhd200_site = adhd200_site + df_adhd200_demog.Site.tolist()\n",
    "\n",
    "print(\"Age:\")\n",
    "print(pd.Series(adhd200_age).describe())\n",
    "\n",
    "print(\"Gender:\")\n",
    "print(pd.Series(adhd200_sex).value_counts())\n",
    "\n",
    "print(\"Samples:\")\n",
    "print(pd.Series(adhd200_site).value_counts())"
   ]
  },
  {
   "cell_type": "code",
   "execution_count": 22,
   "id": "747c4bb1",
   "metadata": {},
   "outputs": [],
   "source": [
    "df_adhd200 = df_adhd200[[x in common_subids for x in df_adhd200.subid]].reset_index(drop=True)\n",
    "df_adhd200[\"qc_1\"] = [df_adhd200_pheno[df_adhd200_pheno[\"ScanDir ID\"] == int(x)].QC_Anatomical_1.item() for x in df_adhd200.subid]\n",
    "i = df_adhd200[df_adhd200.subid == 15016].index\n",
    "df_adhd200.loc[i, \"qc_1\"] = 1\n",
    "df_adhd200 = df_adhd200[~(df_adhd200.subid == 2306976)]\n",
    "\n",
    "# i = df_adhd200[df_adhd200.subid == 1497055].index\n",
    "# df_adhd200.loc[i, \"qc_1\"] = 1\n",
    "\n",
    "# i = df_adhd200[df_adhd200.subid == 5971050].index\n",
    "# df_adhd200.loc[i, \"qc_1\"] = 1\n",
    "\n",
    "# i = df_adhd200[df_adhd200.subid == 10066].index\n",
    "# df_adhd200.loc[i, \"qc_1\"] = 1\n",
    "\n",
    "# i = df_adhd200[df_adhd200.subid == 10015].index\n",
    "# df_adhd200.loc[i, \"qc_1\"] = 1\n",
    "\n",
    "# i = df_adhd200[df_adhd200.subid == 10043].index\n",
    "# df_adhd200.loc[i, \"qc_1\"] = 1\n",
    "\n",
    "df_adhd200[\"qc_1\"] = df_adhd200[\"qc_1\"].apply(lambda x: -(x-1))"
   ]
  },
  {
   "cell_type": "code",
   "execution_count": 23,
   "id": "45c1f2d9",
   "metadata": {},
   "outputs": [
    {
     "data": {
      "text/plain": [
       "Index(['ScanDirID', 'Site', 'Gender', 'Age', 'Handedness', 'DX',\n",
       "       'Secondary Dx ', 'ADHD Measure', 'ADHD Index', 'Inattentive',\n",
       "       'Hyper/Impulsive', 'IQ Measure', 'Verbal IQ', 'Performance IQ',\n",
       "       'Full2 IQ', 'Full4 IQ', 'Med Status', 'QC_S1_Rest_1', 'QC_S1_Rest_2',\n",
       "       'QC_S1_Rest_3', 'QC_S1_Rest_4', 'QC_S1_Rest_5', 'QC_S1_Rest_6',\n",
       "       'QC_S1_Anat', 'QC_S2_Rest_1', 'QC_S2_Rest_2', 'QC_S2_Anat'],\n",
       "      dtype='object')"
      ]
     },
     "execution_count": 23,
     "metadata": {},
     "output_type": "execute_result"
    }
   ],
   "source": [
    "df_adhd200_demog.columns"
   ]
  },
  {
   "cell_type": "code",
   "execution_count": 24,
   "id": "89f9dc03",
   "metadata": {},
   "outputs": [
    {
     "data": {
      "text/plain": [
       "0.9"
      ]
     },
     "execution_count": 24,
     "metadata": {},
     "output_type": "execute_result"
    }
   ],
   "source": [
    "accuracy_score(y_true=df_adhd200[\"qc_1\"].tolist(), y_pred=df_adhd200[\"pred\"].tolist())"
   ]
  },
  {
   "cell_type": "code",
   "execution_count": 25,
   "id": "0bacac4e",
   "metadata": {},
   "outputs": [
    {
     "data": {
      "text/plain": [
       "0.746474809765949"
      ]
     },
     "execution_count": 25,
     "metadata": {},
     "output_type": "execute_result"
    }
   ],
   "source": [
    "roc_auc_score(y_true=df_adhd200[\"qc_1\"].tolist(), y_score=df_adhd200[\"proba\"].tolist())"
   ]
  },
  {
   "cell_type": "code",
   "execution_count": 26,
   "id": "244a0c27",
   "metadata": {},
   "outputs": [
    {
     "data": {
      "text/plain": [
       "-0.0    711\n",
       " 1.0     39\n",
       "Name: qc_1, dtype: int64"
      ]
     },
     "execution_count": 26,
     "metadata": {},
     "output_type": "execute_result"
    }
   ],
   "source": [
    "df_adhd200[\"qc_1\"].value_counts()"
   ]
  },
  {
   "cell_type": "code",
   "execution_count": 27,
   "id": "f8a46ad8",
   "metadata": {},
   "outputs": [
    {
     "data": {
      "text/plain": [
       "qc_1  pred\n",
       "-0.0  0.0     657\n",
       "      1.0      54\n",
       " 1.0  0.0      21\n",
       "      1.0      18\n",
       "Name: pred, dtype: int64"
      ]
     },
     "execution_count": 27,
     "metadata": {},
     "output_type": "execute_result"
    }
   ],
   "source": [
    "df_adhd200.groupby(\"qc_1\").pred.value_counts()"
   ]
  },
  {
   "cell_type": "code",
   "execution_count": 47,
   "id": "b5e0ddc2",
   "metadata": {},
   "outputs": [],
   "source": [
    "# df_adhd200_pheno[[x in df_adhd200[df_adhd200[\"qc_1\"] == 1].subid.astype(int).tolist() for x in df_adhd200_pheno[\"ScanDir ID\"]]]"
   ]
  },
  {
   "cell_type": "code",
   "execution_count": null,
   "id": "fb014b02",
   "metadata": {},
   "outputs": [],
   "source": []
  }
 ],
 "metadata": {
  "kernelspec": {
   "display_name": "Python 3 (ipykernel)",
   "language": "python",
   "name": "python3"
  },
  "language_info": {
   "codemirror_mode": {
    "name": "ipython",
    "version": 3
   },
   "file_extension": ".py",
   "mimetype": "text/x-python",
   "name": "python",
   "nbconvert_exporter": "python",
   "pygments_lexer": "ipython3",
   "version": "3.8.10"
  }
 },
 "nbformat": 4,
 "nbformat_minor": 5
}
