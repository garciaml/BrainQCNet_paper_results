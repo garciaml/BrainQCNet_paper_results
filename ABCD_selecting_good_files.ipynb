{
 "cells": [
  {
   "cell_type": "code",
   "execution_count": 5,
   "id": "painted-journalist",
   "metadata": {},
   "outputs": [],
   "source": [
    "import numpy as np\n",
    "import pandas as pd\n",
    "import matplotlib.pyplot as plt\n",
    "import seaborn as sns"
   ]
  },
  {
   "cell_type": "code",
   "execution_count": 6,
   "id": "nuclear-recipient",
   "metadata": {},
   "outputs": [
    {
     "name": "stderr",
     "output_type": "stream",
     "text": [
      "/home/mleanie/p3_pytorch/lib/python3.8/site-packages/IPython/core/interactiveshell.py:3172: DtypeWarning: Columns (0,1,2,4,6,8,9,10,12,16,17,22,23,24,25,30,31,33,34,35,36,37,38,39,40,41,42,43,44,45,46,47,48,49,50,51,52,53,54,55,56,57,58,59,60,61,62,63,64,65,66,67,68,69,70,71,72,73,74,76,77,78,79,80,81,82,83,84,85,86,87,88,89,90,91,92,93,94,95,96,97,98,99,100,101,102,103,104,105,106,107,108,109,110) have mixed types.Specify dtype option on import or set low_memory=False.\n",
      "  has_raised = await self.run_ast_nodes(code_ast.body, cell_name,\n"
     ]
    }
   ],
   "source": [
    "# df = pd.read_csv(\"/media/mleanie/MELANIE/Package_1189764/image03.txt\", delimiter=\"\\t\")\n",
    "df = pd.read_csv(\"pheno_files/image03.txt\", delimiter=\"\\t\")"
   ]
  },
  {
   "cell_type": "code",
   "execution_count": 7,
   "id": "developed-christianity",
   "metadata": {},
   "outputs": [
    {
     "data": {
      "text/plain": [
       "(801215, 112)"
      ]
     },
     "execution_count": 7,
     "metadata": {},
     "output_type": "execute_result"
    }
   ],
   "source": [
    "df.shape"
   ]
  },
  {
   "cell_type": "code",
   "execution_count": 8,
   "id": "congressional-production",
   "metadata": {},
   "outputs": [
    {
     "data": {
      "text/plain": [
       "Index(['collection_id', 'image03_id', 'dataset_id', 'subjectkey',\n",
       "       'src_subject_id', 'interview_date', 'interview_age', 'sex',\n",
       "       'comments_misc', 'image_file',\n",
       "       ...\n",
       "       'in_stack', 'decon_template_name', 'stack', 'slices', 'slice_number',\n",
       "       'slice_thickness', 'type_of_microscopy', 'excitation_wavelength',\n",
       "       'year_mta', 'collection_title'],\n",
       "      dtype='object', length=112)"
      ]
     },
     "execution_count": 8,
     "metadata": {},
     "output_type": "execute_result"
    }
   ],
   "source": [
    "df.columns"
   ]
  },
  {
   "cell_type": "code",
   "execution_count": 9,
   "id": "advised-career",
   "metadata": {},
   "outputs": [
    {
     "data": {
      "text/plain": [
       "0         Provide information on the conclusion of the q...\n",
       "97078                                          undetermined\n",
       "97079                                                  pass\n",
       "97080                                          undetermined\n",
       "97081                                                  pass\n",
       "                                ...                        \n",
       "436081                                                 pass\n",
       "436082                                                 fail\n",
       "436083                                                 fail\n",
       "436084                                                 fail\n",
       "436085                                         questionable\n",
       "Name: qc_outcome, Length: 47665, dtype: object"
      ]
     },
     "execution_count": 9,
     "metadata": {},
     "output_type": "execute_result"
    }
   ],
   "source": [
    "df.qc_outcome.dropna()"
   ]
  },
  {
   "cell_type": "code",
   "execution_count": 10,
   "id": "electrical-provider",
   "metadata": {},
   "outputs": [
    {
     "data": {
      "text/plain": [
       "Field Map                 316263\n",
       "fMRI                      302079\n",
       "MR structural (T1)         67665\n",
       "MR structural (T2)         58205\n",
       "multi-shell DTI            37348\n",
       "MR diffusion               15110\n",
       "Localizer scan              1767\n",
       "MR structural (TSE)         1450\n",
       "pCASL: ASL                  1310\n",
       "MR structural (MPRAGE)        17\n",
       "Type of Scan                   1\n",
       "Name: scan_type, dtype: int64"
      ]
     },
     "execution_count": 10,
     "metadata": {},
     "output_type": "execute_result"
    }
   ],
   "source": [
    "df.scan_type.value_counts()"
   ]
  },
  {
   "cell_type": "code",
   "execution_count": 11,
   "id": "international-stereo",
   "metadata": {},
   "outputs": [],
   "source": [
    "subdf = df.iloc[df.qc_outcome.dropna().index]\n",
    "subdf = subdf[(subdf.scan_type == \"MR structural (T1)\") | (subdf.scan_type == \"MR structural (MPRAGE)\")]"
   ]
  },
  {
   "cell_type": "code",
   "execution_count": 12,
   "id": "functional-veteran",
   "metadata": {},
   "outputs": [
    {
     "data": {
      "text/plain": [
       "97094     s3://NDAR_Central_1/submission_23920/BCP/work/...\n",
       "97095     s3://NDAR_Central_1/submission_23920/BCP/work/...\n",
       "97103     s3://NDAR_Central_1/submission_23924/BCP/work/...\n",
       "97107     s3://NDAR_Central_1/submission_23924/BCP/work/...\n",
       "97128     s3://NDAR_Central_1/submission_23932/BCP/work/...\n",
       "                                ...                        \n",
       "436072    s3://NDAR_Central_4/submission_31567/BCP/xnat_...\n",
       "436073    s3://NDAR_Central_4/submission_31571/BCP/xnat_...\n",
       "436076    s3://NDAR_Central_4/submission_31571/BCP/xnat_...\n",
       "436077    s3://NDAR_Central_4/submission_31571/BCP/xnat_...\n",
       "436085    s3://NDAR_Central_4/submission_31571/BCP/xnat_...\n",
       "Name: image_file, Length: 7375, dtype: object"
      ]
     },
     "execution_count": 12,
     "metadata": {},
     "output_type": "execute_result"
    }
   ],
   "source": [
    "subdf[\"image_file\"]"
   ]
  },
  {
   "cell_type": "code",
   "execution_count": 13,
   "id": "corrected-washer",
   "metadata": {},
   "outputs": [
    {
     "data": {
      "text/plain": [
       "pass            4326\n",
       "questionable    1615\n",
       "undetermined     864\n",
       "fail             570\n",
       "Name: qc_outcome, dtype: int64"
      ]
     },
     "execution_count": 13,
     "metadata": {},
     "output_type": "execute_result"
    }
   ],
   "source": [
    "subdf[\"qc_outcome\"].value_counts()"
   ]
  },
  {
   "cell_type": "code",
   "execution_count": 14,
   "id": "religious-china",
   "metadata": {},
   "outputs": [],
   "source": [
    "# subdf[\"image_file\"].to_csv(\"ABCD_files_T1w_qc_available.csv\", header=None, index=None)"
   ]
  },
  {
   "cell_type": "code",
   "execution_count": 15,
   "id": "cheap-illustration",
   "metadata": {},
   "outputs": [
    {
     "data": {
      "text/plain": [
       "NIFTI    3839\n",
       "DICOM    3536\n",
       "Name: image_file_format, dtype: int64"
      ]
     },
     "execution_count": 15,
     "metadata": {},
     "output_type": "execute_result"
    }
   ],
   "source": [
    "subdf.image_file_format.value_counts()"
   ]
  },
  {
   "cell_type": "code",
   "execution_count": 16,
   "id": "frequent-chapel",
   "metadata": {},
   "outputs": [],
   "source": [
    "subdf_nii = subdf[subdf.image_file_format == \"NIFTI\"]"
   ]
  },
  {
   "cell_type": "code",
   "execution_count": 17,
   "id": "homeless-mountain",
   "metadata": {},
   "outputs": [],
   "source": [
    "# subdf_nii[\"image_file\"].to_csv(\"ABCD_nii_files_T1w_qc_available.csv\", header=None, index=None)"
   ]
  },
  {
   "cell_type": "code",
   "execution_count": 18,
   "id": "legitimate-share",
   "metadata": {},
   "outputs": [
    {
     "data": {
      "text/plain": [
       "pass            2266\n",
       "questionable     857\n",
       "undetermined     421\n",
       "fail             295\n",
       "Name: qc_outcome, dtype: int64"
      ]
     },
     "execution_count": 18,
     "metadata": {},
     "output_type": "execute_result"
    }
   ],
   "source": [
    "subdf_nii[\"qc_outcome\"].value_counts()"
   ]
  },
  {
   "cell_type": "code",
   "execution_count": 19,
   "id": "worse-selection",
   "metadata": {},
   "outputs": [
    {
     "data": {
      "text/plain": [
       "T1w_MPR                3829\n",
       "T1w_MPR_pt6               4\n",
       "T1w_MPR_pt6_nofat         4\n",
       "rfMRI_REST_PA             1\n",
       "rfMRI_REST_PA_SBRef       1\n",
       "Name: image_description, dtype: int64"
      ]
     },
     "execution_count": 19,
     "metadata": {},
     "output_type": "execute_result"
    }
   ],
   "source": [
    "subdf_nii.image_description.value_counts()"
   ]
  },
  {
   "cell_type": "code",
   "execution_count": 20,
   "id": "material-sample",
   "metadata": {},
   "outputs": [],
   "source": [
    "sub_subdf_nii = subdf_nii[(subdf_nii[\"qc_outcome\"] == \"pass\") | (subdf_nii[\"qc_outcome\"] == \"questionable\") | (subdf_nii[\"qc_outcome\"] == \"fail\")][[\"image_file\", \"qc_outcome\", \"src_subject_id\", \"interview_age\", \"sex\"]]"
   ]
  },
  {
   "cell_type": "code",
   "execution_count": 21,
   "id": "annual-midwest",
   "metadata": {},
   "outputs": [],
   "source": [
    "sub_subdf_nii[\"filename\"] = sub_subdf_nii[\"image_file\"].apply(lambda x: x.split(\"/\")[-1])"
   ]
  },
  {
   "cell_type": "code",
   "execution_count": 22,
   "id": "confirmed-yukon",
   "metadata": {},
   "outputs": [
    {
     "data": {
      "text/html": [
       "<div>\n",
       "<style scoped>\n",
       "    .dataframe tbody tr th:only-of-type {\n",
       "        vertical-align: middle;\n",
       "    }\n",
       "\n",
       "    .dataframe tbody tr th {\n",
       "        vertical-align: top;\n",
       "    }\n",
       "\n",
       "    .dataframe thead th {\n",
       "        text-align: right;\n",
       "    }\n",
       "</style>\n",
       "<table border=\"1\" class=\"dataframe\">\n",
       "  <thead>\n",
       "    <tr style=\"text-align: right;\">\n",
       "      <th></th>\n",
       "      <th>image_file</th>\n",
       "      <th>qc_outcome</th>\n",
       "      <th>src_subject_id</th>\n",
       "      <th>interview_age</th>\n",
       "      <th>sex</th>\n",
       "      <th>filename</th>\n",
       "    </tr>\n",
       "  </thead>\n",
       "  <tbody>\n",
       "    <tr>\n",
       "      <th>97094</th>\n",
       "      <td>s3://NDAR_Central_1/submission_23920/BCP/work/...</td>\n",
       "      <td>questionable</td>\n",
       "      <td>176427</td>\n",
       "      <td>5</td>\n",
       "      <td>F</td>\n",
       "      <td>20160811-ST001-Elison_BSLERP_176427_01_01_MR-S...</td>\n",
       "    </tr>\n",
       "    <tr>\n",
       "      <th>97095</th>\n",
       "      <td>s3://NDAR_Central_1/submission_23920/BCP/work/...</td>\n",
       "      <td>questionable</td>\n",
       "      <td>176427</td>\n",
       "      <td>5</td>\n",
       "      <td>F</td>\n",
       "      <td>20160811-ST001-Elison_BSLERP_176427_01_01_MR-S...</td>\n",
       "    </tr>\n",
       "    <tr>\n",
       "      <th>97103</th>\n",
       "      <td>s3://NDAR_Central_1/submission_23924/BCP/work/...</td>\n",
       "      <td>pass</td>\n",
       "      <td>185373</td>\n",
       "      <td>26</td>\n",
       "      <td>M</td>\n",
       "      <td>20190119-ST001-MNBCP185373-v02-1-26mo_MR-SE002...</td>\n",
       "    </tr>\n",
       "    <tr>\n",
       "      <th>97107</th>\n",
       "      <td>s3://NDAR_Central_1/submission_23924/BCP/work/...</td>\n",
       "      <td>pass</td>\n",
       "      <td>185373</td>\n",
       "      <td>26</td>\n",
       "      <td>M</td>\n",
       "      <td>20190119-ST001-MNBCP185373-v02-1-26mo_MR-SE003...</td>\n",
       "    </tr>\n",
       "    <tr>\n",
       "      <th>97128</th>\n",
       "      <td>s3://NDAR_Central_1/submission_23932/BCP/work/...</td>\n",
       "      <td>pass</td>\n",
       "      <td>261266</td>\n",
       "      <td>17</td>\n",
       "      <td>M</td>\n",
       "      <td>20180810-ST001-MNBCP261266-v01-1-17mo_MR-SE002...</td>\n",
       "    </tr>\n",
       "    <tr>\n",
       "      <th>...</th>\n",
       "      <td>...</td>\n",
       "      <td>...</td>\n",
       "      <td>...</td>\n",
       "      <td>...</td>\n",
       "      <td>...</td>\n",
       "      <td>...</td>\n",
       "    </tr>\n",
       "    <tr>\n",
       "      <th>436072</th>\n",
       "      <td>s3://NDAR_Central_4/submission_31567/BCP/xnat_...</td>\n",
       "      <td>fail</td>\n",
       "      <td>945890</td>\n",
       "      <td>60</td>\n",
       "      <td>M</td>\n",
       "      <td>NCBCP945890-v01-1-60mo_9_T1w.nii.gz</td>\n",
       "    </tr>\n",
       "    <tr>\n",
       "      <th>436073</th>\n",
       "      <td>s3://NDAR_Central_4/submission_31571/BCP/xnat_...</td>\n",
       "      <td>questionable</td>\n",
       "      <td>968715</td>\n",
       "      <td>37</td>\n",
       "      <td>M</td>\n",
       "      <td>BCP-968715-37mo-v1_10_T1w.nii.gz</td>\n",
       "    </tr>\n",
       "    <tr>\n",
       "      <th>436076</th>\n",
       "      <td>s3://NDAR_Central_4/submission_31571/BCP/xnat_...</td>\n",
       "      <td>questionable</td>\n",
       "      <td>968715</td>\n",
       "      <td>37</td>\n",
       "      <td>M</td>\n",
       "      <td>BCP-968715-37mo-v1_13_T1w.nii.gz</td>\n",
       "    </tr>\n",
       "    <tr>\n",
       "      <th>436077</th>\n",
       "      <td>s3://NDAR_Central_4/submission_31571/BCP/xnat_...</td>\n",
       "      <td>questionable</td>\n",
       "      <td>968715</td>\n",
       "      <td>37</td>\n",
       "      <td>M</td>\n",
       "      <td>BCP-968715-37mo-v1_14_T1w.nii.gz</td>\n",
       "    </tr>\n",
       "    <tr>\n",
       "      <th>436085</th>\n",
       "      <td>s3://NDAR_Central_4/submission_31571/BCP/xnat_...</td>\n",
       "      <td>questionable</td>\n",
       "      <td>968715</td>\n",
       "      <td>37</td>\n",
       "      <td>M</td>\n",
       "      <td>BCP-968715-37mo-v1_9_T1w.nii.gz</td>\n",
       "    </tr>\n",
       "  </tbody>\n",
       "</table>\n",
       "<p>3418 rows × 6 columns</p>\n",
       "</div>"
      ],
      "text/plain": [
       "                                               image_file    qc_outcome  \\\n",
       "97094   s3://NDAR_Central_1/submission_23920/BCP/work/...  questionable   \n",
       "97095   s3://NDAR_Central_1/submission_23920/BCP/work/...  questionable   \n",
       "97103   s3://NDAR_Central_1/submission_23924/BCP/work/...          pass   \n",
       "97107   s3://NDAR_Central_1/submission_23924/BCP/work/...          pass   \n",
       "97128   s3://NDAR_Central_1/submission_23932/BCP/work/...          pass   \n",
       "...                                                   ...           ...   \n",
       "436072  s3://NDAR_Central_4/submission_31567/BCP/xnat_...          fail   \n",
       "436073  s3://NDAR_Central_4/submission_31571/BCP/xnat_...  questionable   \n",
       "436076  s3://NDAR_Central_4/submission_31571/BCP/xnat_...  questionable   \n",
       "436077  s3://NDAR_Central_4/submission_31571/BCP/xnat_...  questionable   \n",
       "436085  s3://NDAR_Central_4/submission_31571/BCP/xnat_...  questionable   \n",
       "\n",
       "       src_subject_id interview_age sex  \\\n",
       "97094          176427             5   F   \n",
       "97095          176427             5   F   \n",
       "97103          185373            26   M   \n",
       "97107          185373            26   M   \n",
       "97128          261266            17   M   \n",
       "...               ...           ...  ..   \n",
       "436072         945890            60   M   \n",
       "436073         968715            37   M   \n",
       "436076         968715            37   M   \n",
       "436077         968715            37   M   \n",
       "436085         968715            37   M   \n",
       "\n",
       "                                                 filename  \n",
       "97094   20160811-ST001-Elison_BSLERP_176427_01_01_MR-S...  \n",
       "97095   20160811-ST001-Elison_BSLERP_176427_01_01_MR-S...  \n",
       "97103   20190119-ST001-MNBCP185373-v02-1-26mo_MR-SE002...  \n",
       "97107   20190119-ST001-MNBCP185373-v02-1-26mo_MR-SE003...  \n",
       "97128   20180810-ST001-MNBCP261266-v01-1-17mo_MR-SE002...  \n",
       "...                                                   ...  \n",
       "436072                NCBCP945890-v01-1-60mo_9_T1w.nii.gz  \n",
       "436073                   BCP-968715-37mo-v1_10_T1w.nii.gz  \n",
       "436076                   BCP-968715-37mo-v1_13_T1w.nii.gz  \n",
       "436077                   BCP-968715-37mo-v1_14_T1w.nii.gz  \n",
       "436085                    BCP-968715-37mo-v1_9_T1w.nii.gz  \n",
       "\n",
       "[3418 rows x 6 columns]"
      ]
     },
     "execution_count": 22,
     "metadata": {},
     "output_type": "execute_result"
    }
   ],
   "source": [
    "sub_subdf_nii"
   ]
  },
  {
   "cell_type": "code",
   "execution_count": 23,
   "id": "patent-velvet",
   "metadata": {},
   "outputs": [],
   "source": [
    "# sub_subdf_nii.to_csv(\"download_ABCD_nii_files_T1w_qc_available.csv\", header=None, index=None)\n",
    "# sub_subdf_nii = pd.read_csv(\"./download_ABCD_nii_files_T1w_qc_available.csv\", header=None)\n",
    "# sub_subdf_nii.columns = [\"image_file\", \"qc_outcome\", \"filename\"] "
   ]
  },
  {
   "cell_type": "code",
   "execution_count": 24,
   "id": "spatial-fiction",
   "metadata": {},
   "outputs": [
    {
     "data": {
      "text/plain": [
       "2142"
      ]
     },
     "execution_count": 24,
     "metadata": {},
     "output_type": "execute_result"
    }
   ],
   "source": [
    "len(set(sub_subdf_nii.filename))"
   ]
  },
  {
   "cell_type": "code",
   "execution_count": 25,
   "id": "public-theta",
   "metadata": {},
   "outputs": [],
   "source": [
    "down_files = pd.read_csv(\"downloaded_abcd_files.csv\", header=None)\n",
    "down_files.columns = [\"filename\"]"
   ]
  },
  {
   "cell_type": "code",
   "execution_count": 26,
   "id": "italian-faith",
   "metadata": {},
   "outputs": [
    {
     "data": {
      "text/plain": [
       "2141"
      ]
     },
     "execution_count": 26,
     "metadata": {},
     "output_type": "execute_result"
    }
   ],
   "source": [
    "down_files.shape[0]"
   ]
  },
  {
   "cell_type": "code",
   "execution_count": 27,
   "id": "romantic-investigator",
   "metadata": {},
   "outputs": [],
   "source": [
    "# We consider that for many rows having the same filename, age and qc_outcome, then we can keep only one of the row\n",
    "filenames_to_keep = []\n",
    "qc_filenames_to_keep = []\n",
    "age_filenames_to_keep = []\n",
    "sex_filenames_to_keep = []\n",
    "for el in set(sub_subdf_nii.filename):\n",
    "    el_df = sub_subdf_nii[sub_subdf_nii.filename == el]\n",
    "    if (len(set(el_df.qc_outcome)) == 1) & (len(set(el_df.interview_age)) == 1):\n",
    "        filenames_to_keep.append(el)\n",
    "        qc_filenames_to_keep.append(list(set(el_df.qc_outcome))[0])\n",
    "        age_filenames_to_keep.append(list(set(el_df.interview_age))[0])\n",
    "        sex_filenames_to_keep.append(list(set(el_df.sex))[0])"
   ]
  },
  {
   "cell_type": "code",
   "execution_count": 28,
   "id": "affiliated-disclaimer",
   "metadata": {},
   "outputs": [
    {
     "data": {
      "text/plain": [
       "2101"
      ]
     },
     "execution_count": 28,
     "metadata": {},
     "output_type": "execute_result"
    }
   ],
   "source": [
    "len(filenames_to_keep)"
   ]
  },
  {
   "cell_type": "code",
   "execution_count": 29,
   "id": "legal-beverage",
   "metadata": {},
   "outputs": [
    {
     "data": {
      "text/plain": [
       "2100"
      ]
     },
     "execution_count": 29,
     "metadata": {},
     "output_type": "execute_result"
    }
   ],
   "source": [
    "len(set(down_files[\"filename\"]) & set(filenames_to_keep))"
   ]
  },
  {
   "cell_type": "code",
   "execution_count": 30,
   "id": "polar-stewart",
   "metadata": {},
   "outputs": [],
   "source": [
    "# 41 files downloaded with different QC or different ages\n",
    "filenames_to_check = list(set(down_files[\"filename\"]).difference(set(filenames_to_keep)))"
   ]
  },
  {
   "cell_type": "code",
   "execution_count": 31,
   "id": "hired-gallery",
   "metadata": {},
   "outputs": [],
   "source": [
    "qc_filenames_to_check = []\n",
    "age_filenames_to_check = []\n",
    "sex_filenames_to_check = []\n",
    "for el in filenames_to_check:\n",
    "    el_df = sub_subdf_nii[sub_subdf_nii.filename == el]\n",
    "    last_row = el_df.shape[0] - 1 \n",
    "    #print(pd.concat([el_df.image_file.apply(lambda x: x.split(\"/\")[5]), el_df[\"qc_outcome\"]], axis=1).iloc[last_row])\n",
    "    qc_filenames_to_check.append(el_df[\"qc_outcome\"].iloc[last_row])\n",
    "    age_filenames_to_check.append(el_df[\"interview_age\"].iloc[last_row])\n",
    "    sex_filenames_to_check.append(el_df[\"sex\"].iloc[last_row])"
   ]
  },
  {
   "cell_type": "code",
   "execution_count": 32,
   "id": "exceptional-maximum",
   "metadata": {},
   "outputs": [
    {
     "data": {
      "text/plain": [
       "41"
      ]
     },
     "execution_count": 32,
     "metadata": {},
     "output_type": "execute_result"
    }
   ],
   "source": [
    "len(qc_filenames_to_check)"
   ]
  },
  {
   "cell_type": "code",
   "execution_count": 33,
   "id": "beginning-madison",
   "metadata": {},
   "outputs": [],
   "source": [
    "sub_subdf_nii_to_check = pd.DataFrame({\"filename\": filenames_to_check, \"qc_outcome\": qc_filenames_to_check,\n",
    "                                      \"interview_age\": age_filenames_to_check, \"sex\": sex_filenames_to_check})\n",
    "sub_subdf_nii_to_keep = pd.DataFrame({\"filename\": filenames_to_keep, \"qc_outcome\": qc_filenames_to_keep,\n",
    "                                     \"interview_age\": age_filenames_to_keep, \"sex\": sex_filenames_to_keep})\n",
    "sub_subdf_nii_to_keep = sub_subdf_nii_to_keep[[x in down_files.filename.tolist() for x in sub_subdf_nii_to_keep.filename]]\n",
    "\n",
    "down_files_info = pd.concat([sub_subdf_nii_to_check, sub_subdf_nii_to_keep], axis=0)"
   ]
  },
  {
   "cell_type": "code",
   "execution_count": 34,
   "id": "successful-tractor",
   "metadata": {},
   "outputs": [
    {
     "data": {
      "text/html": [
       "<div>\n",
       "<style scoped>\n",
       "    .dataframe tbody tr th:only-of-type {\n",
       "        vertical-align: middle;\n",
       "    }\n",
       "\n",
       "    .dataframe tbody tr th {\n",
       "        vertical-align: top;\n",
       "    }\n",
       "\n",
       "    .dataframe thead th {\n",
       "        text-align: right;\n",
       "    }\n",
       "</style>\n",
       "<table border=\"1\" class=\"dataframe\">\n",
       "  <thead>\n",
       "    <tr style=\"text-align: right;\">\n",
       "      <th></th>\n",
       "      <th>filename</th>\n",
       "      <th>qc_outcome</th>\n",
       "      <th>interview_age</th>\n",
       "      <th>sex</th>\n",
       "    </tr>\n",
       "  </thead>\n",
       "  <tbody>\n",
       "    <tr>\n",
       "      <th>0</th>\n",
       "      <td>BCP-106436-2wk-v1_6_T1w.nii.gz</td>\n",
       "      <td>questionable</td>\n",
       "      <td>0</td>\n",
       "      <td>F</td>\n",
       "    </tr>\n",
       "    <tr>\n",
       "      <th>1</th>\n",
       "      <td>BCP-439967-42mo-v1_19_T1w.nii.gz</td>\n",
       "      <td>fail</td>\n",
       "      <td>42</td>\n",
       "      <td>F</td>\n",
       "    </tr>\n",
       "    <tr>\n",
       "      <th>2</th>\n",
       "      <td>BCP-017541-10mo-v1_13_T1w.nii.gz</td>\n",
       "      <td>pass</td>\n",
       "      <td>10</td>\n",
       "      <td>F</td>\n",
       "    </tr>\n",
       "    <tr>\n",
       "      <th>3</th>\n",
       "      <td>BCP-017541-10mo-v1_12_T1w.nii.gz</td>\n",
       "      <td>pass</td>\n",
       "      <td>10</td>\n",
       "      <td>F</td>\n",
       "    </tr>\n",
       "    <tr>\n",
       "      <th>4</th>\n",
       "      <td>BCP-648807-27mo-v3_10_T1w.nii.gz</td>\n",
       "      <td>questionable</td>\n",
       "      <td>27</td>\n",
       "      <td>M</td>\n",
       "    </tr>\n",
       "    <tr>\n",
       "      <th>...</th>\n",
       "      <td>...</td>\n",
       "      <td>...</td>\n",
       "      <td>...</td>\n",
       "      <td>...</td>\n",
       "    </tr>\n",
       "    <tr>\n",
       "      <th>2096</th>\n",
       "      <td>794626-BSLERP-20160106_7_T1w_Defaced.nii.gz</td>\n",
       "      <td>pass</td>\n",
       "      <td>11</td>\n",
       "      <td>F</td>\n",
       "    </tr>\n",
       "    <tr>\n",
       "      <th>2097</th>\n",
       "      <td>20180619-ST001-MNBCP710922-v01-01-1mo_MR-SE004...</td>\n",
       "      <td>questionable</td>\n",
       "      <td>1</td>\n",
       "      <td>M</td>\n",
       "    </tr>\n",
       "    <tr>\n",
       "      <th>2098</th>\n",
       "      <td>NCBCP433089-v01-1-15mo_2_T1w.nii.gz</td>\n",
       "      <td>pass</td>\n",
       "      <td>15</td>\n",
       "      <td>F</td>\n",
       "    </tr>\n",
       "    <tr>\n",
       "      <th>2099</th>\n",
       "      <td>20160328-ST002-Elison_BSLERP_505499_03_01_MR-S...</td>\n",
       "      <td>fail</td>\n",
       "      <td>12</td>\n",
       "      <td>F</td>\n",
       "    </tr>\n",
       "    <tr>\n",
       "      <th>2100</th>\n",
       "      <td>NCBCP505525-v03-1-8mo_3_T1w.nii.gz</td>\n",
       "      <td>pass</td>\n",
       "      <td>8</td>\n",
       "      <td>F</td>\n",
       "    </tr>\n",
       "  </tbody>\n",
       "</table>\n",
       "<p>2141 rows × 4 columns</p>\n",
       "</div>"
      ],
      "text/plain": [
       "                                               filename    qc_outcome  \\\n",
       "0                        BCP-106436-2wk-v1_6_T1w.nii.gz  questionable   \n",
       "1                      BCP-439967-42mo-v1_19_T1w.nii.gz          fail   \n",
       "2                      BCP-017541-10mo-v1_13_T1w.nii.gz          pass   \n",
       "3                      BCP-017541-10mo-v1_12_T1w.nii.gz          pass   \n",
       "4                      BCP-648807-27mo-v3_10_T1w.nii.gz  questionable   \n",
       "...                                                 ...           ...   \n",
       "2096        794626-BSLERP-20160106_7_T1w_Defaced.nii.gz          pass   \n",
       "2097  20180619-ST001-MNBCP710922-v01-01-1mo_MR-SE004...  questionable   \n",
       "2098                NCBCP433089-v01-1-15mo_2_T1w.nii.gz          pass   \n",
       "2099  20160328-ST002-Elison_BSLERP_505499_03_01_MR-S...          fail   \n",
       "2100                 NCBCP505525-v03-1-8mo_3_T1w.nii.gz          pass   \n",
       "\n",
       "      interview_age sex  \n",
       "0                 0   F  \n",
       "1                42   F  \n",
       "2                10   F  \n",
       "3                10   F  \n",
       "4                27   M  \n",
       "...             ...  ..  \n",
       "2096             11   F  \n",
       "2097              1   M  \n",
       "2098             15   F  \n",
       "2099             12   F  \n",
       "2100              8   F  \n",
       "\n",
       "[2141 rows x 4 columns]"
      ]
     },
     "execution_count": 34,
     "metadata": {},
     "output_type": "execute_result"
    }
   ],
   "source": [
    "down_files_info"
   ]
  },
  {
   "cell_type": "code",
   "execution_count": 35,
   "id": "937f3a0d",
   "metadata": {},
   "outputs": [
    {
     "data": {
      "text/plain": [
       "count    2141.000000\n",
       "mean       16.885100\n",
       "std        14.882841\n",
       "min         0.000000\n",
       "25%         6.000000\n",
       "50%        12.000000\n",
       "75%        23.000000\n",
       "max        81.000000\n",
       "Name: interview_age, dtype: float64"
      ]
     },
     "execution_count": 35,
     "metadata": {},
     "output_type": "execute_result"
    }
   ],
   "source": [
    "down_files_info.interview_age.describe()"
   ]
  },
  {
   "cell_type": "code",
   "execution_count": 36,
   "id": "b0f44883",
   "metadata": {},
   "outputs": [
    {
     "data": {
      "text/plain": [
       "F    1145\n",
       "M     996\n",
       "Name: sex, dtype: int64"
      ]
     },
     "execution_count": 36,
     "metadata": {},
     "output_type": "execute_result"
    }
   ],
   "source": [
    "down_files_info.sex.value_counts()"
   ]
  },
  {
   "cell_type": "code",
   "execution_count": 37,
   "id": "cardiac-lodging",
   "metadata": {},
   "outputs": [],
   "source": [
    "# down_files_info.to_csv(\"downloaded_files_info.csv\", index=None)"
   ]
  },
  {
   "cell_type": "markdown",
   "id": "hidden-leadership",
   "metadata": {},
   "source": [
    "!!! Attention !!!\n",
    "\n",
    "Compare if \"defaced\" has an effect on detection of quality "
   ]
  },
  {
   "cell_type": "code",
   "execution_count": 38,
   "id": "graduate-arrest",
   "metadata": {},
   "outputs": [],
   "source": [
    "defaced_core_filenames = down_files[[\"Defaced\" in x for x in down_files.filename]]\n",
    "defaced_core_filenames = defaced_core_filenames.filename.apply(lambda x: \"\".join(x.split(\"_Defaced\")))"
   ]
  },
  {
   "cell_type": "code",
   "execution_count": 39,
   "id": "elegant-history",
   "metadata": {},
   "outputs": [
    {
     "data": {
      "text/plain": [
       "218"
      ]
     },
     "execution_count": 39,
     "metadata": {},
     "output_type": "execute_result"
    }
   ],
   "source": [
    "len(defaced_core_filenames)"
   ]
  },
  {
   "cell_type": "code",
   "execution_count": 40,
   "id": "inappropriate-domain",
   "metadata": {},
   "outputs": [],
   "source": [
    "corresponding_undefaced_core_filenames = []\n",
    "for el in defaced_core_filenames:\n",
    "    el_df = down_files[down_files.filename == el]\n",
    "    if el_df.shape[0] > 0:\n",
    "        corresponding_undefaced_core_filenames.append(el_df.filename.iloc[0])"
   ]
  },
  {
   "cell_type": "code",
   "execution_count": 41,
   "id": "stunning-diamond",
   "metadata": {},
   "outputs": [
    {
     "data": {
      "text/plain": [
       "218"
      ]
     },
     "execution_count": 41,
     "metadata": {},
     "output_type": "execute_result"
    }
   ],
   "source": [
    "len(corresponding_undefaced_core_filenames)"
   ]
  },
  {
   "cell_type": "code",
   "execution_count": 42,
   "id": "square-array",
   "metadata": {},
   "outputs": [],
   "source": [
    "# 218 files to remove\n",
    "# pd.DataFrame(corresponding_undefaced_core_filenames).to_csv(\"./abcd_files_downloaded_to_rm.csv\", header=None, index=None)"
   ]
  },
  {
   "cell_type": "markdown",
   "id": "absolute-table",
   "metadata": {},
   "source": [
    "!!! Also compare results according to scanner type "
   ]
  },
  {
   "cell_type": "code",
   "execution_count": 43,
   "id": "digital-attendance",
   "metadata": {},
   "outputs": [],
   "source": [
    "cols_scanner = ['scanner_manufacturer_pd', 'scanner_type_pd', 'scanner_software_versions_pd',\n",
    "                'magnetic_field_strength', 'mri_repetition_time_pd', 'mri_echo_time_pd',\n",
    "                'flip_angle', 'acquisition_matrix', 'mri_field_of_view_pd', 'patient_position',\n",
    "                'photomet_interpret', 'receive_coil', 'transmit_coil', 'transformation_performed',\n",
    "                'transformation_type']"
   ]
  },
  {
   "cell_type": "code",
   "execution_count": 44,
   "id": "bigger-plain",
   "metadata": {},
   "outputs": [
    {
     "data": {
      "text/plain": [
       "['collection_id',\n",
       " 'image03_id',\n",
       " 'dataset_id',\n",
       " 'subjectkey',\n",
       " 'src_subject_id',\n",
       " 'interview_date',\n",
       " 'interview_age',\n",
       " 'sex',\n",
       " 'comments_misc',\n",
       " 'image_file',\n",
       " 'image_thumbnail_file',\n",
       " 'image_description',\n",
       " 'experiment_id',\n",
       " 'scan_type',\n",
       " 'scan_object',\n",
       " 'image_file_format',\n",
       " 'data_file2',\n",
       " 'data_file2_type',\n",
       " 'image_modality',\n",
       " 'scanner_manufacturer_pd',\n",
       " 'scanner_type_pd',\n",
       " 'scanner_software_versions_pd',\n",
       " 'magnetic_field_strength',\n",
       " 'mri_repetition_time_pd',\n",
       " 'mri_echo_time_pd',\n",
       " 'flip_angle',\n",
       " 'acquisition_matrix',\n",
       " 'mri_field_of_view_pd',\n",
       " 'patient_position',\n",
       " 'photomet_interpret',\n",
       " 'receive_coil',\n",
       " 'transmit_coil',\n",
       " 'transformation_performed',\n",
       " 'transformation_type',\n",
       " 'image_history',\n",
       " 'image_num_dimensions',\n",
       " 'image_extent1',\n",
       " 'image_extent2',\n",
       " 'image_extent3',\n",
       " 'image_extent4',\n",
       " 'extent4_type',\n",
       " 'image_extent5',\n",
       " 'extent5_type',\n",
       " 'image_unit1',\n",
       " 'image_unit2',\n",
       " 'image_unit3',\n",
       " 'image_unit4',\n",
       " 'image_unit5',\n",
       " 'image_resolution1',\n",
       " 'image_resolution2',\n",
       " 'image_resolution3',\n",
       " 'image_resolution4',\n",
       " 'image_resolution5',\n",
       " 'image_slice_thickness',\n",
       " 'image_orientation',\n",
       " 'qc_outcome',\n",
       " 'qc_description',\n",
       " 'qc_fail_quest_reason',\n",
       " 'decay_correction',\n",
       " 'frame_end_times',\n",
       " 'frame_end_unit',\n",
       " 'frame_start_times',\n",
       " 'frame_start_unit',\n",
       " 'pet_isotope',\n",
       " 'pet_tracer',\n",
       " 'time_diff_inject_to_image',\n",
       " 'time_diff_units',\n",
       " 'pulse_seq',\n",
       " 'slice_acquisition',\n",
       " 'software_preproc',\n",
       " 'study',\n",
       " 'week',\n",
       " 'experiment_description',\n",
       " 'visit',\n",
       " 'slice_timing',\n",
       " 'bvek_bval_files',\n",
       " 'bvecfile',\n",
       " 'bvalfile',\n",
       " 'deviceserialnumber',\n",
       " 'procdate',\n",
       " 'visnum',\n",
       " 'manifest',\n",
       " 'emission_wavelingth',\n",
       " 'objective_magnification',\n",
       " 'objective_na',\n",
       " 'immersion',\n",
       " 'exposure_time',\n",
       " 'camera_sn',\n",
       " 'block_number',\n",
       " 'level',\n",
       " 'cut_thickness',\n",
       " 'stain',\n",
       " 'stain_details',\n",
       " 'pipeline_stage',\n",
       " 'deconvolved',\n",
       " 'decon_software',\n",
       " 'decon_method',\n",
       " 'psf_type',\n",
       " 'psf_file',\n",
       " 'decon_snr',\n",
       " 'decon_iterations',\n",
       " 'micro_temmplate_name',\n",
       " 'in_stack',\n",
       " 'decon_template_name',\n",
       " 'stack',\n",
       " 'slices',\n",
       " 'slice_number',\n",
       " 'slice_thickness',\n",
       " 'type_of_microscopy',\n",
       " 'excitation_wavelength',\n",
       " 'year_mta',\n",
       " 'collection_title']"
      ]
     },
     "execution_count": 44,
     "metadata": {},
     "output_type": "execute_result"
    }
   ],
   "source": [
    "list(subdf_nii.columns)"
   ]
  },
  {
   "cell_type": "markdown",
   "id": "blind-resistance",
   "metadata": {},
   "source": [
    "# Results"
   ]
  },
  {
   "cell_type": "code",
   "execution_count": 45,
   "id": "biblical-chosen",
   "metadata": {},
   "outputs": [
    {
     "name": "stderr",
     "output_type": "stream",
     "text": [
      "/tmp/ipykernel_22088/2480920896.py:2: SettingWithCopyWarning: \n",
      "A value is trying to be set on a copy of a slice from a DataFrame.\n",
      "Try using .loc[row_indexer,col_indexer] = value instead\n",
      "\n",
      "See the caveats in the documentation: https://pandas.pydata.org/pandas-docs/stable/user_guide/indexing.html#returning-a-view-versus-a-copy\n",
      "  sub_subdf_nii2[\"filename\"] = sub_subdf_nii2[\"image_file\"].apply(lambda x: x.split(\"/\")[-1])\n"
     ]
    }
   ],
   "source": [
    "sub_subdf_nii2 = subdf_nii[(subdf_nii[\"qc_outcome\"] == \"pass\") | (subdf_nii[\"qc_outcome\"] == \"questionable\") | (subdf_nii[\"qc_outcome\"] == \"fail\")]\n",
    "sub_subdf_nii2[\"filename\"] = sub_subdf_nii2[\"image_file\"].apply(lambda x: x.split(\"/\")[-1])"
   ]
  },
  {
   "cell_type": "code",
   "execution_count": 46,
   "id": "honey-republic",
   "metadata": {},
   "outputs": [
    {
     "data": {
      "text/plain": [
       "['collection_id',\n",
       " 'image03_id',\n",
       " 'dataset_id',\n",
       " 'subjectkey',\n",
       " 'src_subject_id',\n",
       " 'interview_date',\n",
       " 'interview_age',\n",
       " 'sex',\n",
       " 'comments_misc',\n",
       " 'image_file',\n",
       " 'image_thumbnail_file',\n",
       " 'image_description',\n",
       " 'experiment_id',\n",
       " 'scan_type',\n",
       " 'scan_object',\n",
       " 'image_file_format',\n",
       " 'data_file2',\n",
       " 'data_file2_type',\n",
       " 'image_modality',\n",
       " 'scanner_manufacturer_pd',\n",
       " 'scanner_type_pd',\n",
       " 'scanner_software_versions_pd',\n",
       " 'magnetic_field_strength',\n",
       " 'mri_repetition_time_pd',\n",
       " 'mri_echo_time_pd',\n",
       " 'flip_angle',\n",
       " 'acquisition_matrix',\n",
       " 'mri_field_of_view_pd',\n",
       " 'patient_position',\n",
       " 'photomet_interpret',\n",
       " 'receive_coil',\n",
       " 'transmit_coil',\n",
       " 'transformation_performed',\n",
       " 'transformation_type',\n",
       " 'image_history',\n",
       " 'image_num_dimensions',\n",
       " 'image_extent1',\n",
       " 'image_extent2',\n",
       " 'image_extent3',\n",
       " 'image_extent4',\n",
       " 'extent4_type',\n",
       " 'image_extent5',\n",
       " 'extent5_type',\n",
       " 'image_unit1',\n",
       " 'image_unit2',\n",
       " 'image_unit3',\n",
       " 'image_unit4',\n",
       " 'image_unit5',\n",
       " 'image_resolution1',\n",
       " 'image_resolution2',\n",
       " 'image_resolution3',\n",
       " 'image_resolution4',\n",
       " 'image_resolution5',\n",
       " 'image_slice_thickness',\n",
       " 'image_orientation',\n",
       " 'qc_outcome',\n",
       " 'qc_description',\n",
       " 'qc_fail_quest_reason',\n",
       " 'decay_correction',\n",
       " 'frame_end_times',\n",
       " 'frame_end_unit',\n",
       " 'frame_start_times',\n",
       " 'frame_start_unit',\n",
       " 'pet_isotope',\n",
       " 'pet_tracer',\n",
       " 'time_diff_inject_to_image',\n",
       " 'time_diff_units',\n",
       " 'pulse_seq',\n",
       " 'slice_acquisition',\n",
       " 'software_preproc',\n",
       " 'study',\n",
       " 'week',\n",
       " 'experiment_description',\n",
       " 'visit',\n",
       " 'slice_timing',\n",
       " 'bvek_bval_files',\n",
       " 'bvecfile',\n",
       " 'bvalfile',\n",
       " 'deviceserialnumber',\n",
       " 'procdate',\n",
       " 'visnum',\n",
       " 'manifest',\n",
       " 'emission_wavelingth',\n",
       " 'objective_magnification',\n",
       " 'objective_na',\n",
       " 'immersion',\n",
       " 'exposure_time',\n",
       " 'camera_sn',\n",
       " 'block_number',\n",
       " 'level',\n",
       " 'cut_thickness',\n",
       " 'stain',\n",
       " 'stain_details',\n",
       " 'pipeline_stage',\n",
       " 'deconvolved',\n",
       " 'decon_software',\n",
       " 'decon_method',\n",
       " 'psf_type',\n",
       " 'psf_file',\n",
       " 'decon_snr',\n",
       " 'decon_iterations',\n",
       " 'micro_temmplate_name',\n",
       " 'in_stack',\n",
       " 'decon_template_name',\n",
       " 'stack',\n",
       " 'slices',\n",
       " 'slice_number',\n",
       " 'slice_thickness',\n",
       " 'type_of_microscopy',\n",
       " 'excitation_wavelength',\n",
       " 'year_mta',\n",
       " 'collection_title']"
      ]
     },
     "execution_count": 46,
     "metadata": {},
     "output_type": "execute_result"
    }
   ],
   "source": [
    "list(subdf_nii.columns)"
   ]
  },
  {
   "cell_type": "code",
   "execution_count": 47,
   "id": "distributed-dining",
   "metadata": {},
   "outputs": [
    {
     "data": {
      "text/html": [
       "<div>\n",
       "<style scoped>\n",
       "    .dataframe tbody tr th:only-of-type {\n",
       "        vertical-align: middle;\n",
       "    }\n",
       "\n",
       "    .dataframe tbody tr th {\n",
       "        vertical-align: top;\n",
       "    }\n",
       "\n",
       "    .dataframe thead th {\n",
       "        text-align: right;\n",
       "    }\n",
       "</style>\n",
       "<table border=\"1\" class=\"dataframe\">\n",
       "  <thead>\n",
       "    <tr style=\"text-align: right;\">\n",
       "      <th></th>\n",
       "      <th>image_file</th>\n",
       "      <th>qc_outcome</th>\n",
       "      <th>src_subject_id</th>\n",
       "      <th>interview_age</th>\n",
       "      <th>sex</th>\n",
       "      <th>filename</th>\n",
       "    </tr>\n",
       "  </thead>\n",
       "  <tbody>\n",
       "    <tr>\n",
       "      <th>97094</th>\n",
       "      <td>s3://NDAR_Central_1/submission_23920/BCP/work/...</td>\n",
       "      <td>questionable</td>\n",
       "      <td>176427</td>\n",
       "      <td>5</td>\n",
       "      <td>F</td>\n",
       "      <td>20160811-ST001-Elison_BSLERP_176427_01_01_MR-S...</td>\n",
       "    </tr>\n",
       "    <tr>\n",
       "      <th>97095</th>\n",
       "      <td>s3://NDAR_Central_1/submission_23920/BCP/work/...</td>\n",
       "      <td>questionable</td>\n",
       "      <td>176427</td>\n",
       "      <td>5</td>\n",
       "      <td>F</td>\n",
       "      <td>20160811-ST001-Elison_BSLERP_176427_01_01_MR-S...</td>\n",
       "    </tr>\n",
       "    <tr>\n",
       "      <th>97103</th>\n",
       "      <td>s3://NDAR_Central_1/submission_23924/BCP/work/...</td>\n",
       "      <td>pass</td>\n",
       "      <td>185373</td>\n",
       "      <td>26</td>\n",
       "      <td>M</td>\n",
       "      <td>20190119-ST001-MNBCP185373-v02-1-26mo_MR-SE002...</td>\n",
       "    </tr>\n",
       "    <tr>\n",
       "      <th>97107</th>\n",
       "      <td>s3://NDAR_Central_1/submission_23924/BCP/work/...</td>\n",
       "      <td>pass</td>\n",
       "      <td>185373</td>\n",
       "      <td>26</td>\n",
       "      <td>M</td>\n",
       "      <td>20190119-ST001-MNBCP185373-v02-1-26mo_MR-SE003...</td>\n",
       "    </tr>\n",
       "    <tr>\n",
       "      <th>97128</th>\n",
       "      <td>s3://NDAR_Central_1/submission_23932/BCP/work/...</td>\n",
       "      <td>pass</td>\n",
       "      <td>261266</td>\n",
       "      <td>17</td>\n",
       "      <td>M</td>\n",
       "      <td>20180810-ST001-MNBCP261266-v01-1-17mo_MR-SE002...</td>\n",
       "    </tr>\n",
       "  </tbody>\n",
       "</table>\n",
       "</div>"
      ],
      "text/plain": [
       "                                              image_file    qc_outcome  \\\n",
       "97094  s3://NDAR_Central_1/submission_23920/BCP/work/...  questionable   \n",
       "97095  s3://NDAR_Central_1/submission_23920/BCP/work/...  questionable   \n",
       "97103  s3://NDAR_Central_1/submission_23924/BCP/work/...          pass   \n",
       "97107  s3://NDAR_Central_1/submission_23924/BCP/work/...          pass   \n",
       "97128  s3://NDAR_Central_1/submission_23932/BCP/work/...          pass   \n",
       "\n",
       "      src_subject_id interview_age sex  \\\n",
       "97094         176427             5   F   \n",
       "97095         176427             5   F   \n",
       "97103         185373            26   M   \n",
       "97107         185373            26   M   \n",
       "97128         261266            17   M   \n",
       "\n",
       "                                                filename  \n",
       "97094  20160811-ST001-Elison_BSLERP_176427_01_01_MR-S...  \n",
       "97095  20160811-ST001-Elison_BSLERP_176427_01_01_MR-S...  \n",
       "97103  20190119-ST001-MNBCP185373-v02-1-26mo_MR-SE002...  \n",
       "97107  20190119-ST001-MNBCP185373-v02-1-26mo_MR-SE003...  \n",
       "97128  20180810-ST001-MNBCP261266-v01-1-17mo_MR-SE002...  "
      ]
     },
     "execution_count": 47,
     "metadata": {},
     "output_type": "execute_result"
    }
   ],
   "source": [
    "sub_subdf_nii.head()"
   ]
  },
  {
   "cell_type": "code",
   "execution_count": 48,
   "id": "damaged-check",
   "metadata": {},
   "outputs": [
    {
     "data": {
      "text/plain": [
       "97094     submission_23920\n",
       "97095     submission_23920\n",
       "97103     submission_23924\n",
       "97107     submission_23924\n",
       "97128     submission_23932\n",
       "                ...       \n",
       "436072    submission_31567\n",
       "436073    submission_31571\n",
       "436076    submission_31571\n",
       "436077    submission_31571\n",
       "436085    submission_31571\n",
       "Name: image_file, Length: 3839, dtype: object"
      ]
     },
     "execution_count": 48,
     "metadata": {},
     "output_type": "execute_result"
    }
   ],
   "source": [
    "subdf_nii[\"image_file\"].apply(lambda x: x.split(\"/\")[3])"
   ]
  },
  {
   "cell_type": "code",
   "execution_count": 49,
   "id": "favorite-cover",
   "metadata": {},
   "outputs": [
    {
     "data": {
      "text/plain": [
       "3418"
      ]
     },
     "execution_count": 49,
     "metadata": {},
     "output_type": "execute_result"
    }
   ],
   "source": [
    "len(set(sub_subdf_nii2.image03_id))"
   ]
  },
  {
   "cell_type": "code",
   "execution_count": 50,
   "id": "decimal-verse",
   "metadata": {},
   "outputs": [],
   "source": [
    "# qc_fail_quest_reason\n",
    "# qc_description\n",
    "# image_slice_thickness\n",
    "# flip_angle\n",
    "# acquisition_matrix\n",
    "# magnetic_field_strength\n",
    "# mri_repetition_time_pd\n",
    "# mri_echo_time_pd\n",
    "\n",
    "# scanner_manufacturer_pd\n",
    "# scanner_type_pd\n",
    "# scanner_software_versions_pd\n",
    "\n",
    "# image03_id"
   ]
  },
  {
   "cell_type": "code",
   "execution_count": 51,
   "id": "japanese-criticism",
   "metadata": {},
   "outputs": [],
   "source": [
    "filenames_to_keep = []\n",
    "img_file_to_keep = []\n",
    "qc_filenames_to_keep = []\n",
    "age_filenames_to_keep = []\n",
    "fov_filenames_to_keep = []\n",
    "qc_fail_quest_reason_filenames_to_keep = []\n",
    "qc_description_filenames_to_keep = []\n",
    "image_slice_thickness_filenames_to_keep = []\n",
    "flip_angle_filenames_to_keep = []\n",
    "acquisition_matrix_filenames_to_keep = []\n",
    "magnetic_field_strength_filenames_to_keep = []\n",
    "mri_repetition_time_pd_filenames_to_keep = []\n",
    "mri_echo_time_pd_filenames_to_keep = []\n",
    "image03_id_to_keep = []\n",
    "for el in set(sub_subdf_nii.filename):\n",
    "    el_df = sub_subdf_nii2[sub_subdf_nii2.filename == el]\n",
    "    if (len(set(el_df.qc_outcome)) == 1) & (len(set(el_df.interview_age)) == 1):\n",
    "        filenames_to_keep.append(el)\n",
    "        img_file_to_keep.append(list(set(el_df.image_file))[0])\n",
    "        qc_filenames_to_keep.append(list(set(el_df.qc_outcome))[0])\n",
    "        age_filenames_to_keep.append(list(set(el_df.interview_age))[0])\n",
    "        fov_filenames_to_keep.append(list(set(el_df.mri_field_of_view_pd))[0])\n",
    "        qc_fail_quest_reason_filenames_to_keep.append(list(set(el_df.qc_fail_quest_reason))[0])\n",
    "        qc_description_filenames_to_keep.append(list(set(el_df.qc_description))[0])\n",
    "        image_slice_thickness_filenames_to_keep.append(list(set(el_df.image_slice_thickness))[0])\n",
    "        flip_angle_filenames_to_keep.append(list(set(el_df.flip_angle))[0])\n",
    "        acquisition_matrix_filenames_to_keep.append(list(set(el_df.acquisition_matrix))[0])\n",
    "        magnetic_field_strength_filenames_to_keep.append(list(set(el_df.magnetic_field_strength))[0])\n",
    "        mri_repetition_time_pd_filenames_to_keep.append(list(set(el_df.mri_repetition_time_pd))[0])\n",
    "        mri_echo_time_pd_filenames_to_keep.append(list(set(el_df.mri_echo_time_pd))[0])\n",
    "        image03_id_to_keep.append(list(set(el_df.image03_id))[0])\n",
    "        "
   ]
  },
  {
   "cell_type": "code",
   "execution_count": 52,
   "id": "confident-transition",
   "metadata": {},
   "outputs": [],
   "source": [
    "img_file_to_check = []\n",
    "qc_filenames_to_check = []\n",
    "age_filenames_to_check = []\n",
    "fov_filenames_to_check = []\n",
    "qc_fail_quest_reason_filenames_to_check = []\n",
    "qc_description_filenames_to_check = []\n",
    "image_slice_thickness_filenames_to_check = []\n",
    "flip_angle_filenames_to_check = []\n",
    "acquisition_matrix_filenames_to_check = []\n",
    "magnetic_field_strength_filenames_to_check = []\n",
    "mri_repetition_time_pd_filenames_to_check = []\n",
    "mri_echo_time_pd_filenames_to_check = []\n",
    "image03_id_to_check = []\n",
    "for el in filenames_to_check:\n",
    "    el_df = sub_subdf_nii2[sub_subdf_nii2.filename == el]\n",
    "    last_row = el_df.shape[0] - 1 \n",
    "    #print(pd.concat([el_df.image_file.apply(lambda x: x.split(\"/\")[5]), el_df[\"qc_outcome\"]], axis=1).iloc[last_row])\n",
    "    img_file_to_check.append(el_df[\"image_file\"].iloc[last_row])\n",
    "    qc_filenames_to_check.append(el_df[\"qc_outcome\"].iloc[last_row])\n",
    "    age_filenames_to_check.append(el_df[\"interview_age\"].iloc[last_row])\n",
    "    fov_filenames_to_check.append(el_df[\"mri_field_of_view_pd\"].iloc[last_row])\n",
    "    qc_fail_quest_reason_filenames_to_check.append(el_df[\"qc_fail_quest_reason\"].iloc[last_row])\n",
    "    qc_description_filenames_to_check.append(el_df[\"qc_description\"].iloc[last_row])\n",
    "    image_slice_thickness_filenames_to_check.append(el_df[\"image_slice_thickness\"].iloc[last_row])\n",
    "    flip_angle_filenames_to_check.append(el_df[\"flip_angle\"].iloc[last_row])\n",
    "    acquisition_matrix_filenames_to_check.append(el_df[\"acquisition_matrix\"].iloc[last_row])\n",
    "    magnetic_field_strength_filenames_to_check.append(el_df[\"magnetic_field_strength\"].iloc[last_row])\n",
    "    mri_repetition_time_pd_filenames_to_check.append(el_df[\"mri_repetition_time_pd\"].iloc[last_row])\n",
    "    mri_echo_time_pd_filenames_to_check.append(el_df[\"mri_echo_time_pd\"].iloc[last_row])\n",
    "    image03_id_to_check.append(el_df[\"image03_id\"].iloc[last_row])"
   ]
  },
  {
   "cell_type": "code",
   "execution_count": 53,
   "id": "hollywood-sculpture",
   "metadata": {},
   "outputs": [],
   "source": [
    "sub_subdf_nii_to_check = pd.DataFrame({\"filename\": filenames_to_check, \"image_file\": img_file_to_check, \"qc_outcome\": qc_filenames_to_check,\n",
    "                                      \"interview_age\": age_filenames_to_check, \"mri_field_of_view_pd\": fov_filenames_to_check,\n",
    "                                      \"qc_fail_quest_reason\": qc_fail_quest_reason_filenames_to_check, \"qc_description\": qc_description_filenames_to_check,\n",
    "                                      \"image_slice_thickness\": image_slice_thickness_filenames_to_check, \"flip_angle\": flip_angle_filenames_to_check,\n",
    "                                      \"acquisition_matrix\": acquisition_matrix_filenames_to_check, \"magnetic_field_strength\": magnetic_field_strength_filenames_to_check,\n",
    "                                      \"mri_repetition_time_pd\": mri_repetition_time_pd_filenames_to_check, \"mri_echo_time_pd\": mri_echo_time_pd_filenames_to_check,\n",
    "                                      \"image03_id\": image03_id_to_check})\n",
    "\n",
    "sub_subdf_nii_to_keep = pd.DataFrame({\"filename\": filenames_to_keep, \"image_file\": img_file_to_keep, \"qc_outcome\": qc_filenames_to_keep,\n",
    "                                     \"interview_age\": age_filenames_to_keep, \"mri_field_of_view_pd\": fov_filenames_to_keep,\n",
    "                                      \"qc_fail_quest_reason\": qc_fail_quest_reason_filenames_to_keep, \"qc_description\": qc_description_filenames_to_keep,\n",
    "                                      \"image_slice_thickness\": image_slice_thickness_filenames_to_keep, \"flip_angle\": flip_angle_filenames_to_keep,\n",
    "                                      \"acquisition_matrix\": acquisition_matrix_filenames_to_keep, \"magnetic_field_strength\": magnetic_field_strength_filenames_to_keep,\n",
    "                                      \"mri_repetition_time_pd\": mri_repetition_time_pd_filenames_to_keep, \"mri_echo_time_pd\": mri_echo_time_pd_filenames_to_keep,\n",
    "                                      \"image03_id\": image03_id_to_keep})\n",
    "sub_subdf_nii_to_keep = sub_subdf_nii_to_keep[[x in down_files.filename.tolist() for x in sub_subdf_nii_to_keep.filename]]\n",
    "\n",
    "down_files_info = pd.concat([sub_subdf_nii_to_check, sub_subdf_nii_to_keep], axis=0)"
   ]
  },
  {
   "cell_type": "code",
   "execution_count": 54,
   "id": "latter-enzyme",
   "metadata": {},
   "outputs": [
    {
     "data": {
      "text/plain": [
       "Use this one    99\n",
       "use this one     4\n",
       "Use              1\n",
       "Name: qc_description, dtype: int64"
      ]
     },
     "execution_count": 54,
     "metadata": {},
     "output_type": "execute_result"
    }
   ],
   "source": [
    "down_files_info.qc_description.value_counts()"
   ]
  },
  {
   "cell_type": "code",
   "execution_count": null,
   "id": "caroline-banner",
   "metadata": {},
   "outputs": [],
   "source": []
  },
  {
   "cell_type": "code",
   "execution_count": 55,
   "id": "political-creek",
   "metadata": {},
   "outputs": [
    {
     "data": {
      "text/plain": [
       "submission_31933    915\n",
       "submission_24134      6\n",
       "submission_24641      6\n",
       "submission_31573      6\n",
       "submission_24371      6\n",
       "                   ... \n",
       "submission_23939      1\n",
       "submission_24329      1\n",
       "submission_24261      1\n",
       "submission_24255      1\n",
       "submission_24391      1\n",
       "Name: image_file, Length: 655, dtype: int64"
      ]
     },
     "execution_count": 55,
     "metadata": {},
     "output_type": "execute_result"
    }
   ],
   "source": [
    "down_files_info[\"image_file\"].apply(lambda x: x.split(\"/\")[3]).value_counts()"
   ]
  },
  {
   "cell_type": "code",
   "execution_count": 56,
   "id": "foster-finder",
   "metadata": {},
   "outputs": [
    {
     "data": {
      "text/plain": [
       "Text(0.5, 1.0, 'Comparing the distribution of probabilities between the models (1779 scans)')"
      ]
     },
     "execution_count": 56,
     "metadata": {},
     "output_type": "execute_result"
    },
    {
     "data": {
      "image/png": "[encoded data removed]",
      "text/plain": [
       "<Figure size 1152x648 with 1 Axes>"
      ]
     },
     "metadata": {
      "needs_background": "light"
     },
     "output_type": "display_data"
    }
   ],
   "source": [
    "df_res152_abcd = pd.read_csv(\"results/protopnet/abcd_global_analysis_logs/abcd_group_results.csv\", index_col=0)\n",
    "\n",
    "df_abcd_true = pd.read_csv(\"results/protopnet/abcd_global_analysis_logs/downloaded_files_info.csv\")\n",
    "df_abcd_true[\"subid\"] = df_abcd_true.filename.apply(lambda x: x.split(\".\")[0])\n",
    "\n",
    "\n",
    "# df_abcd_preds = df_abcd_true.merge(df_res152_abcd, how='left', on='subid')[[\"qc_outcome\", \"proba\", \"pred\"]]\n",
    "down_files_info[\"subid\"] = down_files_info.filename.apply(lambda x: x.split(\".\")[0])\n",
    "df_abcd_preds = df_res152_abcd.merge(down_files_info, how='right', on='subid')\n",
    "\n",
    "\n",
    "plt.figure(figsize=(16, 9))\n",
    "sns.set_theme(style=\"whitegrid\", palette=\"pastel\")\n",
    "sns.violinplot(data=df_abcd_preds, x=\"qc_outcome\", y=\"proba\",\n",
    "               split=True, inner=\"quart\", linewidth=1, cut=0)\n",
    "sns.despine(left=True)\n",
    "plt.ylim(0,100)\n",
    "plt.title(\"Comparing the distribution of probabilities between the models (1779 scans)\")"
   ]
  },
  {
   "cell_type": "code",
   "execution_count": 59,
   "id": "a36c6a43",
   "metadata": {
    "scrolled": false
   },
   "outputs": [
    {
     "data": {
      "text/plain": [
       "Text(0.5, 1.0, 'Comparing the distribution of probabilities between the models (1779 scans)')"
      ]
     },
     "execution_count": 59,
     "metadata": {},
     "output_type": "execute_result"
    },
    {
     "data": {
      "image/png": "[encoded data removed]",
      "text/plain": [
       "<Figure size 1152x648 with 1 Axes>"
      ]
     },
     "metadata": {},
     "output_type": "display_data"
    }
   ],
   "source": [
    "# df_cnn_results = pd.read_csv(\"results/CNN_baselines/group_results_densenet.csv\")\n",
    "# df_cnn_results = pd.read_csv(\"results/CNN_baselines/group_results_resnet.csv\")\n",
    "df_cnn_results = pd.read_csv(\"results/CNN_baselines/group_results_vgg.csv\")\n",
    "\n",
    "\n",
    "df_abcd_true = pd.read_csv(\"results/protopnet/abcd_global_analysis_logs/downloaded_files_info.csv\")\n",
    "df_abcd_true[\"subid\"] = df_abcd_true.filename.apply(lambda x: x.split(\".\")[0])\n",
    "\n",
    "down_files_info[\"subid\"] = down_files_info.filename.apply(lambda x: x.split(\".\")[0])\n",
    "df_abcd_preds2 = df_cnn_results.merge(down_files_info, how='right', on='subid')\n",
    "\n",
    "plt.figure(figsize=(16, 9))\n",
    "sns.set_theme(style=\"whitegrid\", palette=\"pastel\")\n",
    "sns.violinplot(data=df_abcd_preds2, x=\"qc_outcome\", y=\"proba\",\n",
    "               split=True, inner=\"quart\", linewidth=1, cut=0)\n",
    "sns.despine(left=True)\n",
    "plt.ylim(0,1)\n",
    "plt.title(\"Comparing the distribution of probabilities between the models (1779 scans)\")"
   ]
  },
  {
   "cell_type": "code",
   "execution_count": 60,
   "id": "ec1e6b0a",
   "metadata": {
    "scrolled": true
   },
   "outputs": [
    {
     "data": {
      "text/html": [
       "<div>\n",
       "<style scoped>\n",
       "    .dataframe tbody tr th:only-of-type {\n",
       "        vertical-align: middle;\n",
       "    }\n",
       "\n",
       "    .dataframe tbody tr th {\n",
       "        vertical-align: top;\n",
       "    }\n",
       "\n",
       "    .dataframe thead th {\n",
       "        text-align: right;\n",
       "    }\n",
       "</style>\n",
       "<table border=\"1\" class=\"dataframe\">\n",
       "  <thead>\n",
       "    <tr style=\"text-align: right;\">\n",
       "      <th></th>\n",
       "      <th>subid</th>\n",
       "      <th>proba</th>\n",
       "      <th>t</th>\n",
       "      <th>pred</th>\n",
       "      <th>slices</th>\n",
       "      <th>axes</th>\n",
       "      <th>x_proba</th>\n",
       "      <th>y_proba</th>\n",
       "      <th>z_proba</th>\n",
       "      <th>x_pred</th>\n",
       "      <th>y_pred</th>\n",
       "      <th>z_pred</th>\n",
       "    </tr>\n",
       "  </thead>\n",
       "  <tbody>\n",
       "    <tr>\n",
       "      <th>0</th>\n",
       "      <td>20161211-ST001-Elison_BSLERP_812574_01_01_MR-S...</td>\n",
       "      <td>0.23</td>\n",
       "      <td>7.52</td>\n",
       "      <td>0.0</td>\n",
       "      <td>[0, 1, 2, 3, 4, 5, 6, 7, 8, 9, 10, 11, 12, 13,...</td>\n",
       "      <td>['x', 'x', 'x', 'x', 'x', 'x', 'x', 'x', 'x', ...</td>\n",
       "      <td>0.39</td>\n",
       "      <td>0.11</td>\n",
       "      <td>0.18</td>\n",
       "      <td>0.0</td>\n",
       "      <td>0.0</td>\n",
       "      <td>0.0</td>\n",
       "    </tr>\n",
       "    <tr>\n",
       "      <th>1</th>\n",
       "      <td>20190507-ST001-MNBCP907184-v02-2-22mo_MR-SE002...</td>\n",
       "      <td>0.22</td>\n",
       "      <td>7.53</td>\n",
       "      <td>0.0</td>\n",
       "      <td>[0, 1, 2, 3, 4, 5, 6, 7, 8, 9, 10, 11, 12, 13,...</td>\n",
       "      <td>['x', 'x', 'x', 'x', 'x', 'x', 'x', 'x', 'x', ...</td>\n",
       "      <td>0.23</td>\n",
       "      <td>0.28</td>\n",
       "      <td>0.10</td>\n",
       "      <td>0.0</td>\n",
       "      <td>0.0</td>\n",
       "      <td>0.0</td>\n",
       "    </tr>\n",
       "    <tr>\n",
       "      <th>2</th>\n",
       "      <td>20180908-ST001-MNBCP830201-v02-1-15mo_MR-SE003...</td>\n",
       "      <td>0.21</td>\n",
       "      <td>7.56</td>\n",
       "      <td>0.0</td>\n",
       "      <td>[0, 1, 2, 3, 4, 5, 6, 7, 8, 9, 10, 11, 12, 13,...</td>\n",
       "      <td>['x', 'x', 'x', 'x', 'x', 'x', 'x', 'x', 'x', ...</td>\n",
       "      <td>0.24</td>\n",
       "      <td>0.24</td>\n",
       "      <td>0.12</td>\n",
       "      <td>0.0</td>\n",
       "      <td>0.0</td>\n",
       "      <td>0.0</td>\n",
       "    </tr>\n",
       "    <tr>\n",
       "      <th>3</th>\n",
       "      <td>20180911-ST001-MNBCP439037-v01-1-15mo_MR-SE003...</td>\n",
       "      <td>0.26</td>\n",
       "      <td>7.49</td>\n",
       "      <td>0.0</td>\n",
       "      <td>[0, 1, 2, 3, 4, 5, 6, 7, 8, 9, 10, 11, 12, 13,...</td>\n",
       "      <td>['x', 'x', 'x', 'x', 'x', 'x', 'x', 'x', 'x', ...</td>\n",
       "      <td>0.31</td>\n",
       "      <td>0.32</td>\n",
       "      <td>0.08</td>\n",
       "      <td>0.0</td>\n",
       "      <td>0.0</td>\n",
       "      <td>0.0</td>\n",
       "    </tr>\n",
       "    <tr>\n",
       "      <th>4</th>\n",
       "      <td>20180726-ST001-MNBCP185373-v01-2-20mo_MR-SE003...</td>\n",
       "      <td>0.25</td>\n",
       "      <td>7.53</td>\n",
       "      <td>0.0</td>\n",
       "      <td>[0, 1, 2, 3, 4, 5, 6, 7, 8, 9, 10, 11, 12, 13,...</td>\n",
       "      <td>['x', 'x', 'x', 'x', 'x', 'x', 'x', 'x', 'x', ...</td>\n",
       "      <td>0.33</td>\n",
       "      <td>0.27</td>\n",
       "      <td>0.11</td>\n",
       "      <td>0.0</td>\n",
       "      <td>0.0</td>\n",
       "      <td>0.0</td>\n",
       "    </tr>\n",
       "    <tr>\n",
       "      <th>...</th>\n",
       "      <td>...</td>\n",
       "      <td>...</td>\n",
       "      <td>...</td>\n",
       "      <td>...</td>\n",
       "      <td>...</td>\n",
       "      <td>...</td>\n",
       "      <td>...</td>\n",
       "      <td>...</td>\n",
       "      <td>...</td>\n",
       "      <td>...</td>\n",
       "      <td>...</td>\n",
       "      <td>...</td>\n",
       "    </tr>\n",
       "    <tr>\n",
       "      <th>2135</th>\n",
       "      <td>MNBCP940808-v03-1-9mo-20170731_4_T1w</td>\n",
       "      <td>0.25</td>\n",
       "      <td>7.47</td>\n",
       "      <td>0.0</td>\n",
       "      <td>[0, 2, 3, 5, 6, 7, 8, 9, 10, 11, 12, 13, 14, 1...</td>\n",
       "      <td>['x', 'x', 'x', 'x', 'x', 'x', 'x', 'x', 'x', ...</td>\n",
       "      <td>0.33</td>\n",
       "      <td>0.29</td>\n",
       "      <td>0.08</td>\n",
       "      <td>0.0</td>\n",
       "      <td>0.0</td>\n",
       "      <td>0.0</td>\n",
       "    </tr>\n",
       "    <tr>\n",
       "      <th>2136</th>\n",
       "      <td>NCBCP197622-v07-1-18mo_2_T1w</td>\n",
       "      <td>0.26</td>\n",
       "      <td>7.46</td>\n",
       "      <td>0.0</td>\n",
       "      <td>[0, 1, 7, 10, 12, 13, 14, 16, 17, 18, 20, 22, ...</td>\n",
       "      <td>['x', 'x', 'x', 'x', 'x', 'x', 'x', 'x', 'x', ...</td>\n",
       "      <td>0.28</td>\n",
       "      <td>0.38</td>\n",
       "      <td>0.07</td>\n",
       "      <td>0.0</td>\n",
       "      <td>0.0</td>\n",
       "      <td>0.0</td>\n",
       "    </tr>\n",
       "    <tr>\n",
       "      <th>2137</th>\n",
       "      <td>20190811-ST001-MNBCP240615-v03-1-28mo_MR-SE003...</td>\n",
       "      <td>0.25</td>\n",
       "      <td>7.51</td>\n",
       "      <td>0.0</td>\n",
       "      <td>[0, 1, 2, 3, 4, 5, 6, 7, 8, 9, 10, 11, 12, 13,...</td>\n",
       "      <td>['x', 'x', 'x', 'x', 'x', 'x', 'x', 'x', 'x', ...</td>\n",
       "      <td>0.26</td>\n",
       "      <td>0.34</td>\n",
       "      <td>0.10</td>\n",
       "      <td>0.0</td>\n",
       "      <td>0.0</td>\n",
       "      <td>0.0</td>\n",
       "    </tr>\n",
       "    <tr>\n",
       "      <th>2138</th>\n",
       "      <td>NCBCP404835-v02-2-65mo_13_T1w</td>\n",
       "      <td>0.99</td>\n",
       "      <td>7.55</td>\n",
       "      <td>1.0</td>\n",
       "      <td>[0, 1, 2, 3, 4, 5, 6, 7, 8, 9, 10, 11, 12, 13,...</td>\n",
       "      <td>['x', 'x', 'x', 'x', 'x', 'x', 'x', 'x', 'x', ...</td>\n",
       "      <td>1.00</td>\n",
       "      <td>1.00</td>\n",
       "      <td>0.96</td>\n",
       "      <td>1.0</td>\n",
       "      <td>1.0</td>\n",
       "      <td>1.0</td>\n",
       "    </tr>\n",
       "    <tr>\n",
       "      <th>2139</th>\n",
       "      <td>20150331-ST001-Elison_BSLERP_890518_1_1_MR-SE0...</td>\n",
       "      <td>0.29</td>\n",
       "      <td>7.47</td>\n",
       "      <td>0.0</td>\n",
       "      <td>[0, 1, 2, 3, 5, 6, 7, 8, 9, 10, 11, 12, 13, 14...</td>\n",
       "      <td>['x', 'x', 'x', 'x', 'x', 'x', 'x', 'x', 'x', ...</td>\n",
       "      <td>0.36</td>\n",
       "      <td>0.30</td>\n",
       "      <td>0.18</td>\n",
       "      <td>0.0</td>\n",
       "      <td>0.0</td>\n",
       "      <td>0.0</td>\n",
       "    </tr>\n",
       "  </tbody>\n",
       "</table>\n",
       "<p>2140 rows × 12 columns</p>\n",
       "</div>"
      ],
      "text/plain": [
       "                                                  subid  proba     t  pred  \\\n",
       "0     20161211-ST001-Elison_BSLERP_812574_01_01_MR-S...   0.23  7.52   0.0   \n",
       "1     20190507-ST001-MNBCP907184-v02-2-22mo_MR-SE002...   0.22  7.53   0.0   \n",
       "2     20180908-ST001-MNBCP830201-v02-1-15mo_MR-SE003...   0.21  7.56   0.0   \n",
       "3     20180911-ST001-MNBCP439037-v01-1-15mo_MR-SE003...   0.26  7.49   0.0   \n",
       "4     20180726-ST001-MNBCP185373-v01-2-20mo_MR-SE003...   0.25  7.53   0.0   \n",
       "...                                                 ...    ...   ...   ...   \n",
       "2135               MNBCP940808-v03-1-9mo-20170731_4_T1w   0.25  7.47   0.0   \n",
       "2136                       NCBCP197622-v07-1-18mo_2_T1w   0.26  7.46   0.0   \n",
       "2137  20190811-ST001-MNBCP240615-v03-1-28mo_MR-SE003...   0.25  7.51   0.0   \n",
       "2138                      NCBCP404835-v02-2-65mo_13_T1w   0.99  7.55   1.0   \n",
       "2139  20150331-ST001-Elison_BSLERP_890518_1_1_MR-SE0...   0.29  7.47   0.0   \n",
       "\n",
       "                                                 slices  \\\n",
       "0     [0, 1, 2, 3, 4, 5, 6, 7, 8, 9, 10, 11, 12, 13,...   \n",
       "1     [0, 1, 2, 3, 4, 5, 6, 7, 8, 9, 10, 11, 12, 13,...   \n",
       "2     [0, 1, 2, 3, 4, 5, 6, 7, 8, 9, 10, 11, 12, 13,...   \n",
       "3     [0, 1, 2, 3, 4, 5, 6, 7, 8, 9, 10, 11, 12, 13,...   \n",
       "4     [0, 1, 2, 3, 4, 5, 6, 7, 8, 9, 10, 11, 12, 13,...   \n",
       "...                                                 ...   \n",
       "2135  [0, 2, 3, 5, 6, 7, 8, 9, 10, 11, 12, 13, 14, 1...   \n",
       "2136  [0, 1, 7, 10, 12, 13, 14, 16, 17, 18, 20, 22, ...   \n",
       "2137  [0, 1, 2, 3, 4, 5, 6, 7, 8, 9, 10, 11, 12, 13,...   \n",
       "2138  [0, 1, 2, 3, 4, 5, 6, 7, 8, 9, 10, 11, 12, 13,...   \n",
       "2139  [0, 1, 2, 3, 5, 6, 7, 8, 9, 10, 11, 12, 13, 14...   \n",
       "\n",
       "                                                   axes  x_proba  y_proba  \\\n",
       "0     ['x', 'x', 'x', 'x', 'x', 'x', 'x', 'x', 'x', ...     0.39     0.11   \n",
       "1     ['x', 'x', 'x', 'x', 'x', 'x', 'x', 'x', 'x', ...     0.23     0.28   \n",
       "2     ['x', 'x', 'x', 'x', 'x', 'x', 'x', 'x', 'x', ...     0.24     0.24   \n",
       "3     ['x', 'x', 'x', 'x', 'x', 'x', 'x', 'x', 'x', ...     0.31     0.32   \n",
       "4     ['x', 'x', 'x', 'x', 'x', 'x', 'x', 'x', 'x', ...     0.33     0.27   \n",
       "...                                                 ...      ...      ...   \n",
       "2135  ['x', 'x', 'x', 'x', 'x', 'x', 'x', 'x', 'x', ...     0.33     0.29   \n",
       "2136  ['x', 'x', 'x', 'x', 'x', 'x', 'x', 'x', 'x', ...     0.28     0.38   \n",
       "2137  ['x', 'x', 'x', 'x', 'x', 'x', 'x', 'x', 'x', ...     0.26     0.34   \n",
       "2138  ['x', 'x', 'x', 'x', 'x', 'x', 'x', 'x', 'x', ...     1.00     1.00   \n",
       "2139  ['x', 'x', 'x', 'x', 'x', 'x', 'x', 'x', 'x', ...     0.36     0.30   \n",
       "\n",
       "      z_proba  x_pred  y_pred  z_pred  \n",
       "0        0.18     0.0     0.0     0.0  \n",
       "1        0.10     0.0     0.0     0.0  \n",
       "2        0.12     0.0     0.0     0.0  \n",
       "3        0.08     0.0     0.0     0.0  \n",
       "4        0.11     0.0     0.0     0.0  \n",
       "...       ...     ...     ...     ...  \n",
       "2135     0.08     0.0     0.0     0.0  \n",
       "2136     0.07     0.0     0.0     0.0  \n",
       "2137     0.10     0.0     0.0     0.0  \n",
       "2138     0.96     1.0     1.0     1.0  \n",
       "2139     0.18     0.0     0.0     0.0  \n",
       "\n",
       "[2140 rows x 12 columns]"
      ]
     },
     "execution_count": 60,
     "metadata": {},
     "output_type": "execute_result"
    }
   ],
   "source": [
    "df_cnn_results"
   ]
  },
  {
   "cell_type": "code",
   "execution_count": null,
   "id": "d0a96819",
   "metadata": {},
   "outputs": [],
   "source": []
  },
  {
   "cell_type": "code",
   "execution_count": 61,
   "id": "olympic-occasion",
   "metadata": {},
   "outputs": [
    {
     "data": {
      "text/plain": [
       "qc_outcome    pred\n",
       "fail          1.0      162\n",
       "              0.0       36\n",
       "pass          0.0     1368\n",
       "              1.0       11\n",
       "questionable  0.0      445\n",
       "              1.0      114\n",
       "Name: pred, dtype: int64"
      ]
     },
     "execution_count": 61,
     "metadata": {},
     "output_type": "execute_result"
    }
   ],
   "source": [
    "df_abcd_preds2.groupby(\"qc_outcome\").pred.value_counts()"
   ]
  },
  {
   "cell_type": "code",
   "execution_count": 62,
   "id": "cbf9e503",
   "metadata": {},
   "outputs": [
    {
     "data": {
      "text/html": [
       "<div>\n",
       "<style scoped>\n",
       "    .dataframe tbody tr th:only-of-type {\n",
       "        vertical-align: middle;\n",
       "    }\n",
       "\n",
       "    .dataframe tbody tr th {\n",
       "        vertical-align: top;\n",
       "    }\n",
       "\n",
       "    .dataframe thead th {\n",
       "        text-align: right;\n",
       "    }\n",
       "</style>\n",
       "<table border=\"1\" class=\"dataframe\">\n",
       "  <thead>\n",
       "    <tr style=\"text-align: right;\">\n",
       "      <th></th>\n",
       "      <th>count</th>\n",
       "      <th>mean</th>\n",
       "      <th>std</th>\n",
       "      <th>min</th>\n",
       "      <th>25%</th>\n",
       "      <th>50%</th>\n",
       "      <th>75%</th>\n",
       "      <th>max</th>\n",
       "    </tr>\n",
       "    <tr>\n",
       "      <th>qc_outcome</th>\n",
       "      <th></th>\n",
       "      <th></th>\n",
       "      <th></th>\n",
       "      <th></th>\n",
       "      <th></th>\n",
       "      <th></th>\n",
       "      <th></th>\n",
       "      <th></th>\n",
       "    </tr>\n",
       "  </thead>\n",
       "  <tbody>\n",
       "    <tr>\n",
       "      <th>fail</th>\n",
       "      <td>198.0</td>\n",
       "      <td>0.764242</td>\n",
       "      <td>0.237553</td>\n",
       "      <td>0.18</td>\n",
       "      <td>0.61</td>\n",
       "      <td>0.88</td>\n",
       "      <td>0.950</td>\n",
       "      <td>1.00</td>\n",
       "    </tr>\n",
       "    <tr>\n",
       "      <th>pass</th>\n",
       "      <td>1379.0</td>\n",
       "      <td>0.264518</td>\n",
       "      <td>0.060949</td>\n",
       "      <td>0.09</td>\n",
       "      <td>0.23</td>\n",
       "      <td>0.26</td>\n",
       "      <td>0.290</td>\n",
       "      <td>0.79</td>\n",
       "    </tr>\n",
       "    <tr>\n",
       "      <th>questionable</th>\n",
       "      <td>559.0</td>\n",
       "      <td>0.401449</td>\n",
       "      <td>0.180612</td>\n",
       "      <td>0.16</td>\n",
       "      <td>0.28</td>\n",
       "      <td>0.34</td>\n",
       "      <td>0.465</td>\n",
       "      <td>0.97</td>\n",
       "    </tr>\n",
       "  </tbody>\n",
       "</table>\n",
       "</div>"
      ],
      "text/plain": [
       "               count      mean       std   min   25%   50%    75%   max\n",
       "qc_outcome                                                             \n",
       "fail           198.0  0.764242  0.237553  0.18  0.61  0.88  0.950  1.00\n",
       "pass          1379.0  0.264518  0.060949  0.09  0.23  0.26  0.290  0.79\n",
       "questionable   559.0  0.401449  0.180612  0.16  0.28  0.34  0.465  0.97"
      ]
     },
     "execution_count": 62,
     "metadata": {},
     "output_type": "execute_result"
    }
   ],
   "source": [
    "df_abcd_preds2.groupby(\"qc_outcome\").proba.describe()"
   ]
  },
  {
   "cell_type": "code",
   "execution_count": null,
   "id": "df040d3c",
   "metadata": {},
   "outputs": [],
   "source": []
  },
  {
   "cell_type": "code",
   "execution_count": 63,
   "id": "allied-express",
   "metadata": {},
   "outputs": [
    {
     "data": {
      "text/plain": [
       "qc_outcome    pred\n",
       "fail          1.0      181\n",
       "              0.0       17\n",
       "pass          0.0     1137\n",
       "              1.0      243\n",
       "questionable  1.0      304\n",
       "              0.0      255\n",
       "Name: pred, dtype: int64"
      ]
     },
     "execution_count": 63,
     "metadata": {},
     "output_type": "execute_result"
    }
   ],
   "source": [
    "df_abcd_preds.groupby(\"qc_outcome\").pred.value_counts()"
   ]
  },
  {
   "cell_type": "code",
   "execution_count": 64,
   "id": "temporal-pixel",
   "metadata": {},
   "outputs": [
    {
     "data": {
      "text/html": [
       "<div>\n",
       "<style scoped>\n",
       "    .dataframe tbody tr th:only-of-type {\n",
       "        vertical-align: middle;\n",
       "    }\n",
       "\n",
       "    .dataframe tbody tr th {\n",
       "        vertical-align: top;\n",
       "    }\n",
       "\n",
       "    .dataframe thead th {\n",
       "        text-align: right;\n",
       "    }\n",
       "</style>\n",
       "<table border=\"1\" class=\"dataframe\">\n",
       "  <thead>\n",
       "    <tr style=\"text-align: right;\">\n",
       "      <th></th>\n",
       "      <th>count</th>\n",
       "      <th>mean</th>\n",
       "      <th>std</th>\n",
       "      <th>min</th>\n",
       "      <th>25%</th>\n",
       "      <th>50%</th>\n",
       "      <th>75%</th>\n",
       "      <th>max</th>\n",
       "    </tr>\n",
       "    <tr>\n",
       "      <th>qc_outcome</th>\n",
       "      <th></th>\n",
       "      <th></th>\n",
       "      <th></th>\n",
       "      <th></th>\n",
       "      <th></th>\n",
       "      <th></th>\n",
       "      <th></th>\n",
       "      <th></th>\n",
       "    </tr>\n",
       "  </thead>\n",
       "  <tbody>\n",
       "    <tr>\n",
       "      <th>fail</th>\n",
       "      <td>198.0</td>\n",
       "      <td>82.500000</td>\n",
       "      <td>17.030504</td>\n",
       "      <td>38.0</td>\n",
       "      <td>74.0</td>\n",
       "      <td>90.0</td>\n",
       "      <td>95.0</td>\n",
       "      <td>99.0</td>\n",
       "    </tr>\n",
       "    <tr>\n",
       "      <th>pass</th>\n",
       "      <td>1380.0</td>\n",
       "      <td>46.204348</td>\n",
       "      <td>6.441817</td>\n",
       "      <td>28.0</td>\n",
       "      <td>42.0</td>\n",
       "      <td>46.0</td>\n",
       "      <td>49.0</td>\n",
       "      <td>86.0</td>\n",
       "    </tr>\n",
       "    <tr>\n",
       "      <th>questionable</th>\n",
       "      <td>559.0</td>\n",
       "      <td>57.542039</td>\n",
       "      <td>15.449928</td>\n",
       "      <td>32.0</td>\n",
       "      <td>46.0</td>\n",
       "      <td>52.0</td>\n",
       "      <td>68.0</td>\n",
       "      <td>97.0</td>\n",
       "    </tr>\n",
       "  </tbody>\n",
       "</table>\n",
       "</div>"
      ],
      "text/plain": [
       "               count       mean        std   min   25%   50%   75%   max\n",
       "qc_outcome                                                              \n",
       "fail           198.0  82.500000  17.030504  38.0  74.0  90.0  95.0  99.0\n",
       "pass          1380.0  46.204348   6.441817  28.0  42.0  46.0  49.0  86.0\n",
       "questionable   559.0  57.542039  15.449928  32.0  46.0  52.0  68.0  97.0"
      ]
     },
     "execution_count": 64,
     "metadata": {},
     "output_type": "execute_result"
    }
   ],
   "source": [
    "df_abcd_preds.groupby(\"qc_outcome\").proba.describe()"
   ]
  },
  {
   "cell_type": "code",
   "execution_count": 65,
   "id": "limited-python",
   "metadata": {
    "scrolled": true
   },
   "outputs": [
    {
     "data": {
      "text/html": [
       "<div>\n",
       "<style scoped>\n",
       "    .dataframe tbody tr th:only-of-type {\n",
       "        vertical-align: middle;\n",
       "    }\n",
       "\n",
       "    .dataframe tbody tr th {\n",
       "        vertical-align: top;\n",
       "    }\n",
       "\n",
       "    .dataframe thead th {\n",
       "        text-align: right;\n",
       "    }\n",
       "</style>\n",
       "<table border=\"1\" class=\"dataframe\">\n",
       "  <thead>\n",
       "    <tr style=\"text-align: right;\">\n",
       "      <th></th>\n",
       "      <th></th>\n",
       "      <th>count</th>\n",
       "      <th>mean</th>\n",
       "      <th>std</th>\n",
       "      <th>min</th>\n",
       "      <th>25%</th>\n",
       "      <th>50%</th>\n",
       "      <th>75%</th>\n",
       "      <th>max</th>\n",
       "    </tr>\n",
       "    <tr>\n",
       "      <th>qc_outcome</th>\n",
       "      <th>pred</th>\n",
       "      <th></th>\n",
       "      <th></th>\n",
       "      <th></th>\n",
       "      <th></th>\n",
       "      <th></th>\n",
       "      <th></th>\n",
       "      <th></th>\n",
       "      <th></th>\n",
       "    </tr>\n",
       "  </thead>\n",
       "  <tbody>\n",
       "    <tr>\n",
       "      <th rowspan=\"2\" valign=\"top\">fail</th>\n",
       "      <th>0.0</th>\n",
       "      <td>17.0</td>\n",
       "      <td>45.764706</td>\n",
       "      <td>3.832907</td>\n",
       "      <td>38.0</td>\n",
       "      <td>44.0</td>\n",
       "      <td>46.0</td>\n",
       "      <td>49.0</td>\n",
       "      <td>50.0</td>\n",
       "    </tr>\n",
       "    <tr>\n",
       "      <th>1.0</th>\n",
       "      <td>181.0</td>\n",
       "      <td>85.950276</td>\n",
       "      <td>13.292971</td>\n",
       "      <td>51.0</td>\n",
       "      <td>81.0</td>\n",
       "      <td>92.0</td>\n",
       "      <td>95.0</td>\n",
       "      <td>99.0</td>\n",
       "    </tr>\n",
       "    <tr>\n",
       "      <th rowspan=\"2\" valign=\"top\">pass</th>\n",
       "      <th>0.0</th>\n",
       "      <td>1137.0</td>\n",
       "      <td>44.043096</td>\n",
       "      <td>3.822986</td>\n",
       "      <td>28.0</td>\n",
       "      <td>42.0</td>\n",
       "      <td>44.0</td>\n",
       "      <td>47.0</td>\n",
       "      <td>50.0</td>\n",
       "    </tr>\n",
       "    <tr>\n",
       "      <th>1.0</th>\n",
       "      <td>243.0</td>\n",
       "      <td>56.316872</td>\n",
       "      <td>6.574620</td>\n",
       "      <td>51.0</td>\n",
       "      <td>52.0</td>\n",
       "      <td>54.0</td>\n",
       "      <td>58.0</td>\n",
       "      <td>86.0</td>\n",
       "    </tr>\n",
       "    <tr>\n",
       "      <th rowspan=\"2\" valign=\"top\">questionable</th>\n",
       "      <th>0.0</th>\n",
       "      <td>255.0</td>\n",
       "      <td>44.603922</td>\n",
       "      <td>3.906887</td>\n",
       "      <td>32.0</td>\n",
       "      <td>42.0</td>\n",
       "      <td>45.0</td>\n",
       "      <td>48.0</td>\n",
       "      <td>50.0</td>\n",
       "    </tr>\n",
       "    <tr>\n",
       "      <th>1.0</th>\n",
       "      <td>304.0</td>\n",
       "      <td>68.394737</td>\n",
       "      <td>12.951628</td>\n",
       "      <td>51.0</td>\n",
       "      <td>57.0</td>\n",
       "      <td>66.0</td>\n",
       "      <td>78.0</td>\n",
       "      <td>97.0</td>\n",
       "    </tr>\n",
       "  </tbody>\n",
       "</table>\n",
       "</div>"
      ],
      "text/plain": [
       "                    count       mean        std   min   25%   50%   75%   max\n",
       "qc_outcome   pred                                                            \n",
       "fail         0.0     17.0  45.764706   3.832907  38.0  44.0  46.0  49.0  50.0\n",
       "             1.0    181.0  85.950276  13.292971  51.0  81.0  92.0  95.0  99.0\n",
       "pass         0.0   1137.0  44.043096   3.822986  28.0  42.0  44.0  47.0  50.0\n",
       "             1.0    243.0  56.316872   6.574620  51.0  52.0  54.0  58.0  86.0\n",
       "questionable 0.0    255.0  44.603922   3.906887  32.0  42.0  45.0  48.0  50.0\n",
       "             1.0    304.0  68.394737  12.951628  51.0  57.0  66.0  78.0  97.0"
      ]
     },
     "execution_count": 65,
     "metadata": {},
     "output_type": "execute_result"
    }
   ],
   "source": [
    "df_abcd_preds.groupby([\"qc_outcome\", \"pred\"]).proba.describe()"
   ]
  },
  {
   "cell_type": "code",
   "execution_count": 66,
   "id": "eda91bd3",
   "metadata": {},
   "outputs": [],
   "source": [
    "df_abcd_preds_combined = df_abcd_preds[[\"image03_id\", \"proba\", \"qc_outcome\"]].merge(df_abcd_preds2[[\"image03_id\", \"proba\"]], on=\"image03_id\")"
   ]
  },
  {
   "cell_type": "code",
   "execution_count": 67,
   "id": "060b8dd8",
   "metadata": {},
   "outputs": [],
   "source": [
    "df_abcd_preds_combined[\"proba_combined\"] = (df_abcd_preds_combined.proba_x + df_abcd_preds_combined.proba_y*100)/2\n",
    "df_abcd_preds_combined[\"pred\"] = df_abcd_preds_combined[\"proba_combined\"].apply(lambda x: int(x > 50))"
   ]
  },
  {
   "cell_type": "code",
   "execution_count": 68,
   "id": "c7473622",
   "metadata": {},
   "outputs": [
    {
     "data": {
      "text/plain": [
       "qc_outcome    pred\n",
       "fail          1        167\n",
       "              0         31\n",
       "pass          0       1352\n",
       "              1         32\n",
       "questionable  0        367\n",
       "              1        192\n",
       "Name: pred, dtype: int64"
      ]
     },
     "execution_count": 68,
     "metadata": {},
     "output_type": "execute_result"
    }
   ],
   "source": [
    "df_abcd_preds_combined.groupby(\"qc_outcome\").pred.value_counts()"
   ]
  },
  {
   "cell_type": "code",
   "execution_count": 69,
   "id": "223d985a",
   "metadata": {},
   "outputs": [],
   "source": [
    "## Trying a combination strategy\n",
    "\n",
    "# # generate pred=0 if proba_y < 0.5, pred=1 if proba_x > 0.5, else return proba_x\n",
    "# def compute_pred_combined(row_df):\n",
    "#     if row_df[\"proba_x\"] > 50:\n",
    "#         return 1\n",
    "#     elif row_df[\"proba_y\"] <= 0.5:\n",
    "#         return 0\n",
    "#     else:\n",
    "#         return int((row_df[\"proba_x\"] + row_df[\"proba_y\"]*10)/2 > 50)\n",
    "    \n",
    "# df_abcd_preds_combined[\"pred_combined\"] = df_abcd_preds_combined.apply(compute_pred_combined, 1)"
   ]
  },
  {
   "cell_type": "code",
   "execution_count": 70,
   "id": "7b3a8a5a",
   "metadata": {},
   "outputs": [],
   "source": [
    "# df_abcd_preds_combined.groupby(\"qc_outcome\").pred_combined.value_counts()"
   ]
  },
  {
   "cell_type": "code",
   "execution_count": null,
   "id": "388561eb",
   "metadata": {},
   "outputs": [],
   "source": []
  },
  {
   "cell_type": "code",
   "execution_count": 71,
   "id": "proper-pollution",
   "metadata": {},
   "outputs": [
    {
     "data": {
      "text/plain": [
       "311"
      ]
     },
     "execution_count": 71,
     "metadata": {},
     "output_type": "execute_result"
    }
   ],
   "source": [
    "df_abcd_preds.query(\"proba > 50 & proba < 60\").shape[0]"
   ]
  },
  {
   "cell_type": "code",
   "execution_count": 72,
   "id": "comic-fifty",
   "metadata": {},
   "outputs": [
    {
     "data": {
      "text/html": [
       "<div>\n",
       "<style scoped>\n",
       "    .dataframe tbody tr th:only-of-type {\n",
       "        vertical-align: middle;\n",
       "    }\n",
       "\n",
       "    .dataframe tbody tr th {\n",
       "        vertical-align: top;\n",
       "    }\n",
       "\n",
       "    .dataframe thead th {\n",
       "        text-align: right;\n",
       "    }\n",
       "</style>\n",
       "<table border=\"1\" class=\"dataframe\">\n",
       "  <thead>\n",
       "    <tr style=\"text-align: right;\">\n",
       "      <th></th>\n",
       "      <th></th>\n",
       "      <th>count</th>\n",
       "      <th>mean</th>\n",
       "      <th>std</th>\n",
       "      <th>min</th>\n",
       "      <th>25%</th>\n",
       "      <th>50%</th>\n",
       "      <th>75%</th>\n",
       "      <th>max</th>\n",
       "    </tr>\n",
       "    <tr>\n",
       "      <th>qc_outcome</th>\n",
       "      <th>pred</th>\n",
       "      <th></th>\n",
       "      <th></th>\n",
       "      <th></th>\n",
       "      <th></th>\n",
       "      <th></th>\n",
       "      <th></th>\n",
       "      <th></th>\n",
       "      <th></th>\n",
       "    </tr>\n",
       "  </thead>\n",
       "  <tbody>\n",
       "    <tr>\n",
       "      <th rowspan=\"2\" valign=\"top\">fail</th>\n",
       "      <th>0.0</th>\n",
       "      <td>14.0</td>\n",
       "      <td>44.857143</td>\n",
       "      <td>3.613163</td>\n",
       "      <td>38.0</td>\n",
       "      <td>41.75</td>\n",
       "      <td>45.5</td>\n",
       "      <td>47.75</td>\n",
       "      <td>49.0</td>\n",
       "    </tr>\n",
       "    <tr>\n",
       "      <th>1.0</th>\n",
       "      <td>165.0</td>\n",
       "      <td>89.048485</td>\n",
       "      <td>9.174997</td>\n",
       "      <td>61.0</td>\n",
       "      <td>84.00</td>\n",
       "      <td>93.0</td>\n",
       "      <td>96.00</td>\n",
       "      <td>99.0</td>\n",
       "    </tr>\n",
       "    <tr>\n",
       "      <th rowspan=\"2\" valign=\"top\">pass</th>\n",
       "      <th>0.0</th>\n",
       "      <td>1077.0</td>\n",
       "      <td>43.711235</td>\n",
       "      <td>3.652569</td>\n",
       "      <td>28.0</td>\n",
       "      <td>41.00</td>\n",
       "      <td>44.0</td>\n",
       "      <td>47.00</td>\n",
       "      <td>49.0</td>\n",
       "    </tr>\n",
       "    <tr>\n",
       "      <th>1.0</th>\n",
       "      <td>36.0</td>\n",
       "      <td>69.277778</td>\n",
       "      <td>7.093704</td>\n",
       "      <td>61.0</td>\n",
       "      <td>63.75</td>\n",
       "      <td>67.0</td>\n",
       "      <td>75.00</td>\n",
       "      <td>86.0</td>\n",
       "    </tr>\n",
       "    <tr>\n",
       "      <th rowspan=\"2\" valign=\"top\">questionable</th>\n",
       "      <th>0.0</th>\n",
       "      <td>230.0</td>\n",
       "      <td>44.017391</td>\n",
       "      <td>3.661395</td>\n",
       "      <td>32.0</td>\n",
       "      <td>41.25</td>\n",
       "      <td>44.5</td>\n",
       "      <td>47.00</td>\n",
       "      <td>49.0</td>\n",
       "    </tr>\n",
       "    <tr>\n",
       "      <th>1.0</th>\n",
       "      <td>195.0</td>\n",
       "      <td>75.733333</td>\n",
       "      <td>10.309173</td>\n",
       "      <td>61.0</td>\n",
       "      <td>66.00</td>\n",
       "      <td>74.0</td>\n",
       "      <td>85.00</td>\n",
       "      <td>97.0</td>\n",
       "    </tr>\n",
       "  </tbody>\n",
       "</table>\n",
       "</div>"
      ],
      "text/plain": [
       "                    count       mean        std   min    25%   50%    75%  \\\n",
       "qc_outcome   pred                                                           \n",
       "fail         0.0     14.0  44.857143   3.613163  38.0  41.75  45.5  47.75   \n",
       "             1.0    165.0  89.048485   9.174997  61.0  84.00  93.0  96.00   \n",
       "pass         0.0   1077.0  43.711235   3.652569  28.0  41.00  44.0  47.00   \n",
       "             1.0     36.0  69.277778   7.093704  61.0  63.75  67.0  75.00   \n",
       "questionable 0.0    230.0  44.017391   3.661395  32.0  41.25  44.5  47.00   \n",
       "             1.0    195.0  75.733333  10.309173  61.0  66.00  74.0  85.00   \n",
       "\n",
       "                    max  \n",
       "qc_outcome   pred        \n",
       "fail         0.0   49.0  \n",
       "             1.0   99.0  \n",
       "pass         0.0   49.0  \n",
       "             1.0   86.0  \n",
       "questionable 0.0   49.0  \n",
       "             1.0   97.0  "
      ]
     },
     "execution_count": 72,
     "metadata": {},
     "output_type": "execute_result"
    }
   ],
   "source": [
    "df_abcd_preds_no_btw_50_60 = df_abcd_preds.query(\"proba < 50 | proba > 60\")\n",
    "df_abcd_preds_no_btw_50_60.groupby([\"qc_outcome\", \"pred\"]).proba.describe()"
   ]
  },
  {
   "cell_type": "code",
   "execution_count": 73,
   "id": "ranking-liver",
   "metadata": {},
   "outputs": [
    {
     "data": {
      "text/plain": [
       "0.967654986522911"
      ]
     },
     "execution_count": 73,
     "metadata": {},
     "output_type": "execute_result"
    }
   ],
   "source": [
    "1077/(1077+36)"
   ]
  },
  {
   "cell_type": "code",
   "execution_count": 74,
   "id": "latest-stroke",
   "metadata": {},
   "outputs": [
    {
     "data": {
      "text/plain": [
       "0.9217877094972067"
      ]
     },
     "execution_count": 74,
     "metadata": {},
     "output_type": "execute_result"
    }
   ],
   "source": [
    "165/(165+14)"
   ]
  },
  {
   "cell_type": "markdown",
   "id": "designing-dispatch",
   "metadata": {},
   "source": [
    "Area of uncertainty with proba between 50 and 60 !  \n",
    "--> verify scans between these values"
   ]
  },
  {
   "cell_type": "code",
   "execution_count": 75,
   "id": "special-handle",
   "metadata": {
    "scrolled": true
   },
   "outputs": [
    {
     "data": {
      "text/plain": [
       "Use this one    26\n",
       "Name: qc_description, dtype: int64"
      ]
     },
     "execution_count": 75,
     "metadata": {},
     "output_type": "execute_result"
    }
   ],
   "source": [
    "df_abcd_preds[df_abcd_preds.qc_outcome == \"questionable\"].qc_description.value_counts()"
   ]
  },
  {
   "cell_type": "code",
   "execution_count": 76,
   "id": "ranking-spirituality",
   "metadata": {},
   "outputs": [
    {
     "data": {
      "text/plain": [
       "0.0    15\n",
       "1.0    11\n",
       "Name: pred, dtype: int64"
      ]
     },
     "execution_count": 76,
     "metadata": {},
     "output_type": "execute_result"
    }
   ],
   "source": [
    "df_abcd_preds[(df_abcd_preds.qc_outcome == \"questionable\") & (df_abcd_preds.qc_description == \"Use this one\")].pred.value_counts()"
   ]
  },
  {
   "cell_type": "code",
   "execution_count": 77,
   "id": "empirical-wales",
   "metadata": {},
   "outputs": [
    {
     "data": {
      "text/html": [
       "<div>\n",
       "<style scoped>\n",
       "    .dataframe tbody tr th:only-of-type {\n",
       "        vertical-align: middle;\n",
       "    }\n",
       "\n",
       "    .dataframe tbody tr th {\n",
       "        vertical-align: top;\n",
       "    }\n",
       "\n",
       "    .dataframe thead th {\n",
       "        text-align: right;\n",
       "    }\n",
       "</style>\n",
       "<table border=\"1\" class=\"dataframe\">\n",
       "  <thead>\n",
       "    <tr style=\"text-align: right;\">\n",
       "      <th></th>\n",
       "      <th>count</th>\n",
       "      <th>mean</th>\n",
       "      <th>std</th>\n",
       "      <th>min</th>\n",
       "      <th>25%</th>\n",
       "      <th>50%</th>\n",
       "      <th>75%</th>\n",
       "      <th>max</th>\n",
       "    </tr>\n",
       "    <tr>\n",
       "      <th>pred</th>\n",
       "      <th></th>\n",
       "      <th></th>\n",
       "      <th></th>\n",
       "      <th></th>\n",
       "      <th></th>\n",
       "      <th></th>\n",
       "      <th></th>\n",
       "      <th></th>\n",
       "    </tr>\n",
       "  </thead>\n",
       "  <tbody>\n",
       "    <tr>\n",
       "      <th>0.0</th>\n",
       "      <td>15.0</td>\n",
       "      <td>44.200000</td>\n",
       "      <td>4.296178</td>\n",
       "      <td>37.0</td>\n",
       "      <td>40.5</td>\n",
       "      <td>46.0</td>\n",
       "      <td>47.5</td>\n",
       "      <td>50.0</td>\n",
       "    </tr>\n",
       "    <tr>\n",
       "      <th>1.0</th>\n",
       "      <td>11.0</td>\n",
       "      <td>72.818182</td>\n",
       "      <td>7.180782</td>\n",
       "      <td>61.0</td>\n",
       "      <td>69.5</td>\n",
       "      <td>74.0</td>\n",
       "      <td>75.0</td>\n",
       "      <td>85.0</td>\n",
       "    </tr>\n",
       "  </tbody>\n",
       "</table>\n",
       "</div>"
      ],
      "text/plain": [
       "      count       mean       std   min   25%   50%   75%   max\n",
       "pred                                                          \n",
       "0.0    15.0  44.200000  4.296178  37.0  40.5  46.0  47.5  50.0\n",
       "1.0    11.0  72.818182  7.180782  61.0  69.5  74.0  75.0  85.0"
      ]
     },
     "execution_count": 77,
     "metadata": {},
     "output_type": "execute_result"
    }
   ],
   "source": [
    "df_abcd_preds[(df_abcd_preds.qc_outcome == \"questionable\") & (df_abcd_preds.qc_description == \"Use this one\")].groupby(\"pred\").proba.describe()"
   ]
  },
  {
   "cell_type": "markdown",
   "id": "humanitarian-premium",
   "metadata": {},
   "source": [
    "over 26 scans qc_outcome = questionable and qc_descript = \"use this one\": 15 predicted pass / 11 predicted fail "
   ]
  },
  {
   "cell_type": "code",
   "execution_count": 78,
   "id": "moved-specification",
   "metadata": {},
   "outputs": [
    {
     "data": {
      "text/plain": [
       "qc_description  pred\n",
       "Use             0.0      1\n",
       "Use this one    0.0     65\n",
       "                1.0     33\n",
       "use this one    0.0      3\n",
       "                1.0      1\n",
       "Name: pred, dtype: int64"
      ]
     },
     "execution_count": 78,
     "metadata": {},
     "output_type": "execute_result"
    }
   ],
   "source": [
    "df_abcd_preds.groupby(\"qc_description\").pred.value_counts()"
   ]
  },
  {
   "cell_type": "code",
   "execution_count": 79,
   "id": "under-picking",
   "metadata": {},
   "outputs": [
    {
     "data": {
      "text/plain": [
       "108"
      ]
     },
     "execution_count": 79,
     "metadata": {},
     "output_type": "execute_result"
    }
   ],
   "source": [
    "1+67+36+3+1"
   ]
  },
  {
   "cell_type": "code",
   "execution_count": 80,
   "id": "weighted-waterproof",
   "metadata": {},
   "outputs": [
    {
     "data": {
      "text/plain": [
       "0.6574074074074074"
      ]
     },
     "execution_count": 80,
     "metadata": {},
     "output_type": "execute_result"
    }
   ],
   "source": [
    "(1+67+3)/108"
   ]
  },
  {
   "cell_type": "code",
   "execution_count": 81,
   "id": "strange-voice",
   "metadata": {},
   "outputs": [
    {
     "data": {
      "text/html": [
       "<div>\n",
       "<style scoped>\n",
       "    .dataframe tbody tr th:only-of-type {\n",
       "        vertical-align: middle;\n",
       "    }\n",
       "\n",
       "    .dataframe tbody tr th {\n",
       "        vertical-align: top;\n",
       "    }\n",
       "\n",
       "    .dataframe thead th {\n",
       "        text-align: right;\n",
       "    }\n",
       "</style>\n",
       "<table border=\"1\" class=\"dataframe\">\n",
       "  <thead>\n",
       "    <tr style=\"text-align: right;\">\n",
       "      <th></th>\n",
       "      <th></th>\n",
       "      <th>count</th>\n",
       "      <th>mean</th>\n",
       "      <th>std</th>\n",
       "      <th>min</th>\n",
       "      <th>25%</th>\n",
       "      <th>50%</th>\n",
       "      <th>75%</th>\n",
       "      <th>max</th>\n",
       "    </tr>\n",
       "    <tr>\n",
       "      <th>qc_description</th>\n",
       "      <th>pred</th>\n",
       "      <th></th>\n",
       "      <th></th>\n",
       "      <th></th>\n",
       "      <th></th>\n",
       "      <th></th>\n",
       "      <th></th>\n",
       "      <th></th>\n",
       "      <th></th>\n",
       "    </tr>\n",
       "  </thead>\n",
       "  <tbody>\n",
       "    <tr>\n",
       "      <th>Use</th>\n",
       "      <th>0.0</th>\n",
       "      <td>1.0</td>\n",
       "      <td>45.000000</td>\n",
       "      <td>NaN</td>\n",
       "      <td>45.0</td>\n",
       "      <td>45.0</td>\n",
       "      <td>45.0</td>\n",
       "      <td>45.0</td>\n",
       "      <td>45.0</td>\n",
       "    </tr>\n",
       "    <tr>\n",
       "      <th rowspan=\"2\" valign=\"top\">Use this one</th>\n",
       "      <th>0.0</th>\n",
       "      <td>65.0</td>\n",
       "      <td>44.492308</td>\n",
       "      <td>3.791945</td>\n",
       "      <td>35.0</td>\n",
       "      <td>42.0</td>\n",
       "      <td>45.0</td>\n",
       "      <td>47.0</td>\n",
       "      <td>50.0</td>\n",
       "    </tr>\n",
       "    <tr>\n",
       "      <th>1.0</th>\n",
       "      <td>33.0</td>\n",
       "      <td>61.848485</td>\n",
       "      <td>9.526677</td>\n",
       "      <td>51.0</td>\n",
       "      <td>54.0</td>\n",
       "      <td>60.0</td>\n",
       "      <td>66.0</td>\n",
       "      <td>85.0</td>\n",
       "    </tr>\n",
       "    <tr>\n",
       "      <th rowspan=\"2\" valign=\"top\">use this one</th>\n",
       "      <th>0.0</th>\n",
       "      <td>3.0</td>\n",
       "      <td>45.666667</td>\n",
       "      <td>4.041452</td>\n",
       "      <td>41.0</td>\n",
       "      <td>44.5</td>\n",
       "      <td>48.0</td>\n",
       "      <td>48.0</td>\n",
       "      <td>48.0</td>\n",
       "    </tr>\n",
       "    <tr>\n",
       "      <th>1.0</th>\n",
       "      <td>1.0</td>\n",
       "      <td>77.000000</td>\n",
       "      <td>NaN</td>\n",
       "      <td>77.0</td>\n",
       "      <td>77.0</td>\n",
       "      <td>77.0</td>\n",
       "      <td>77.0</td>\n",
       "      <td>77.0</td>\n",
       "    </tr>\n",
       "  </tbody>\n",
       "</table>\n",
       "</div>"
      ],
      "text/plain": [
       "                     count       mean       std   min   25%   50%   75%   max\n",
       "qc_description pred                                                          \n",
       "Use            0.0     1.0  45.000000       NaN  45.0  45.0  45.0  45.0  45.0\n",
       "Use this one   0.0    65.0  44.492308  3.791945  35.0  42.0  45.0  47.0  50.0\n",
       "               1.0    33.0  61.848485  9.526677  51.0  54.0  60.0  66.0  85.0\n",
       "use this one   0.0     3.0  45.666667  4.041452  41.0  44.5  48.0  48.0  48.0\n",
       "               1.0     1.0  77.000000       NaN  77.0  77.0  77.0  77.0  77.0"
      ]
     },
     "execution_count": 81,
     "metadata": {},
     "output_type": "execute_result"
    }
   ],
   "source": [
    "df_abcd_preds.groupby([\"qc_description\", \"pred\"]).proba.describe()"
   ]
  },
  {
   "cell_type": "code",
   "execution_count": 82,
   "id": "740ea86e",
   "metadata": {},
   "outputs": [
    {
     "data": {
      "text/plain": [
       "0.8888888888888888"
      ]
     },
     "execution_count": 82,
     "metadata": {},
     "output_type": "execute_result"
    }
   ],
   "source": [
    "96/108"
   ]
  },
  {
   "cell_type": "code",
   "execution_count": 83,
   "id": "0408c803",
   "metadata": {},
   "outputs": [
    {
     "data": {
      "text/html": [
       "<div>\n",
       "<style scoped>\n",
       "    .dataframe tbody tr th:only-of-type {\n",
       "        vertical-align: middle;\n",
       "    }\n",
       "\n",
       "    .dataframe tbody tr th {\n",
       "        vertical-align: top;\n",
       "    }\n",
       "\n",
       "    .dataframe thead th {\n",
       "        text-align: right;\n",
       "    }\n",
       "</style>\n",
       "<table border=\"1\" class=\"dataframe\">\n",
       "  <thead>\n",
       "    <tr style=\"text-align: right;\">\n",
       "      <th></th>\n",
       "      <th></th>\n",
       "      <th>count</th>\n",
       "      <th>mean</th>\n",
       "      <th>std</th>\n",
       "      <th>min</th>\n",
       "      <th>25%</th>\n",
       "      <th>50%</th>\n",
       "      <th>75%</th>\n",
       "      <th>max</th>\n",
       "    </tr>\n",
       "    <tr>\n",
       "      <th>qc_description</th>\n",
       "      <th>pred</th>\n",
       "      <th></th>\n",
       "      <th></th>\n",
       "      <th></th>\n",
       "      <th></th>\n",
       "      <th></th>\n",
       "      <th></th>\n",
       "      <th></th>\n",
       "      <th></th>\n",
       "    </tr>\n",
       "  </thead>\n",
       "  <tbody>\n",
       "    <tr>\n",
       "      <th>Use</th>\n",
       "      <th>0.0</th>\n",
       "      <td>1.0</td>\n",
       "      <td>0.270000</td>\n",
       "      <td>NaN</td>\n",
       "      <td>0.27</td>\n",
       "      <td>0.270</td>\n",
       "      <td>0.270</td>\n",
       "      <td>0.2700</td>\n",
       "      <td>0.27</td>\n",
       "    </tr>\n",
       "    <tr>\n",
       "      <th rowspan=\"2\" valign=\"top\">Use this one</th>\n",
       "      <th>0.0</th>\n",
       "      <td>91.0</td>\n",
       "      <td>0.289121</td>\n",
       "      <td>0.063660</td>\n",
       "      <td>0.09</td>\n",
       "      <td>0.245</td>\n",
       "      <td>0.280</td>\n",
       "      <td>0.3200</td>\n",
       "      <td>0.49</td>\n",
       "    </tr>\n",
       "    <tr>\n",
       "      <th>1.0</th>\n",
       "      <td>7.0</td>\n",
       "      <td>0.631429</td>\n",
       "      <td>0.096683</td>\n",
       "      <td>0.51</td>\n",
       "      <td>0.550</td>\n",
       "      <td>0.670</td>\n",
       "      <td>0.6900</td>\n",
       "      <td>0.76</td>\n",
       "    </tr>\n",
       "    <tr>\n",
       "      <th>use this one</th>\n",
       "      <th>0.0</th>\n",
       "      <td>4.0</td>\n",
       "      <td>0.327500</td>\n",
       "      <td>0.097425</td>\n",
       "      <td>0.25</td>\n",
       "      <td>0.280</td>\n",
       "      <td>0.295</td>\n",
       "      <td>0.3425</td>\n",
       "      <td>0.47</td>\n",
       "    </tr>\n",
       "  </tbody>\n",
       "</table>\n",
       "</div>"
      ],
      "text/plain": [
       "                     count      mean       std   min    25%    50%     75%  \\\n",
       "qc_description pred                                                          \n",
       "Use            0.0     1.0  0.270000       NaN  0.27  0.270  0.270  0.2700   \n",
       "Use this one   0.0    91.0  0.289121  0.063660  0.09  0.245  0.280  0.3200   \n",
       "               1.0     7.0  0.631429  0.096683  0.51  0.550  0.670  0.6900   \n",
       "use this one   0.0     4.0  0.327500  0.097425  0.25  0.280  0.295  0.3425   \n",
       "\n",
       "                      max  \n",
       "qc_description pred        \n",
       "Use            0.0   0.27  \n",
       "Use this one   0.0   0.49  \n",
       "               1.0   0.76  \n",
       "use this one   0.0   0.47  "
      ]
     },
     "execution_count": 83,
     "metadata": {},
     "output_type": "execute_result"
    }
   ],
   "source": [
    "df_abcd_preds2.groupby([\"qc_description\", \"pred\"]).proba.describe()"
   ]
  },
  {
   "cell_type": "code",
   "execution_count": 84,
   "id": "julian-guarantee",
   "metadata": {},
   "outputs": [],
   "source": [
    "subids_fail_pred_0 = df_abcd_preds[(df_abcd_preds.pred == 0) & (df_abcd_preds.qc_outcome == \"fail\")].filename.tolist()\n",
    "subids_pass_pred_1 = df_abcd_preds[(df_abcd_preds.pred == 1) & (df_abcd_preds.qc_outcome == \"pass\")].filename.tolist()"
   ]
  },
  {
   "cell_type": "code",
   "execution_count": 85,
   "id": "dimensional-appearance",
   "metadata": {},
   "outputs": [],
   "source": [
    "np.random.seed(42)\n",
    "subids_pass_pred_0 = df_abcd_preds[(df_abcd_preds.pred == 0) & (df_abcd_preds.qc_outcome == \"pass\")].filename.tolist()\n",
    "subids_fail_pred_1 = df_abcd_preds[(df_abcd_preds.pred == 1) & (df_abcd_preds.qc_outcome == \"fail\")].filename.tolist()\n",
    "subids_questionable = df_abcd_preds[df_abcd_preds.qc_outcome == \"questionable\"].filename.tolist()\n",
    "# Picking randomly 50 scans in each set\n",
    "subids_pass_pred_0 = list(np.random.choice(subids_pass_pred_0, 50, replace=False))\n",
    "subids_fail_pred_1 = list(np.random.choice(subids_fail_pred_1, 50, replace=False))\n",
    "subids_questionable = list(np.random.choice(subids_questionable, 50, replace=False))"
   ]
  },
  {
   "cell_type": "code",
   "execution_count": 86,
   "id": "vertical-albuquerque",
   "metadata": {},
   "outputs": [],
   "source": [
    "files_to_mriqc = subids_fail_pred_0 + subids_pass_pred_1 + subids_pass_pred_0 + subids_fail_pred_1 + subids_questionable\n",
    "df_to_mriqc = df_abcd_preds[[x in files_to_mriqc for x in df_abcd_preds.filename]][[\"filename\", \"image03_id\", \"qc_outcome\", \"proba\", \"pred\"]]"
   ]
  },
  {
   "cell_type": "code",
   "execution_count": 87,
   "id": "finished-inspector",
   "metadata": {},
   "outputs": [
    {
     "data": {
      "text/plain": [
       "(410, 5)"
      ]
     },
     "execution_count": 87,
     "metadata": {},
     "output_type": "execute_result"
    }
   ],
   "source": [
    "df_to_mriqc.shape"
   ]
  },
  {
   "cell_type": "code",
   "execution_count": 88,
   "id": "immune-reflection",
   "metadata": {},
   "outputs": [],
   "source": [
    "# df_to_mriqc.sort_values(by=\"image03_id\").to_csv(\"./df_to_mriqc.csv\", header=None, index=None)"
   ]
  },
  {
   "cell_type": "code",
   "execution_count": 89,
   "id": "failing-disclaimer",
   "metadata": {},
   "outputs": [],
   "source": [
    "df_to_mriqc2 = pd.DataFrame(df_to_mriqc[\"image03_id\"].tolist(), columns=[\"participants_id\"])"
   ]
  },
  {
   "cell_type": "code",
   "execution_count": 90,
   "id": "independent-gothic",
   "metadata": {},
   "outputs": [],
   "source": [
    "# df_to_mriqc2.sort_values(by=\"participants_id\").to_csv(\"./df_to_mriqc.tsv\", index=None)"
   ]
  }
 ],
 "metadata": {
  "kernelspec": {
   "display_name": "Python 3 (ipykernel)",
   "language": "python",
   "name": "python3"
  },
  "language_info": {
   "codemirror_mode": {
    "name": "ipython",
    "version": 3
   },
   "file_extension": ".py",
   "mimetype": "text/x-python",
   "name": "python",
   "nbconvert_exporter": "python",
   "pygments_lexer": "ipython3",
   "version": "3.8.10"
  }
 },
 "nbformat": 4,
 "nbformat_minor": 5
}
